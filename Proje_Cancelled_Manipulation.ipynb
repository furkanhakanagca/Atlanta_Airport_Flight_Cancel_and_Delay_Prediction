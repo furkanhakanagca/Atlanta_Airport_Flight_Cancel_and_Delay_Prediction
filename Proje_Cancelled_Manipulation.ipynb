{
 "metadata": {
  "language_info": {
   "codemirror_mode": {
    "name": "ipython",
    "version": 3
   },
   "file_extension": ".py",
   "mimetype": "text/x-python",
   "name": "python",
   "nbconvert_exporter": "python",
   "pygments_lexer": "ipython3",
   "version": "3.8.8"
  },
  "orig_nbformat": 2,
  "kernelspec": {
   "name": "python388jvsc74a57bd0e1bcea4eaa5126049b7ce55025e7f66f3c02bd37fbb40acaf8a244ae8fc295eb",
   "display_name": "Python 3.8.8 64-bit ('Machine_Learning_VsCode': conda)"
  }
 },
 "nbformat": 4,
 "nbformat_minor": 2,
 "cells": [
  {
   "cell_type": "code",
   "execution_count": 1,
   "metadata": {},
   "outputs": [],
   "source": [
    "import pandas as pd\n",
    "import numpy as np\n",
    "import matplotlib.pyplot as plt\n",
    "import datetime"
   ]
  },
  {
   "cell_type": "code",
   "execution_count": 2,
   "metadata": {},
   "outputs": [],
   "source": [
    "pd.set_option('display.max_columns', None)\n",
    "pd.set_option('display.max_rows', None)\n",
    "Ocak = pd.read_csv('Ocak.csv')\n",
    "Subat = pd.read_csv('Şubat.csv')\n",
    "Mart = pd.read_csv('Mart.csv')\n",
    "Nisan = pd.read_csv('Nisan.csv')\n",
    "Mayıs = pd.read_csv('Mayıs.csv')\n",
    "Haziran = pd.read_csv('Haziran.csv')\n",
    "Temmuz = pd.read_csv('Temmuz.csv')\n",
    "Agustos = pd.read_csv('Ağustos.csv')\n",
    "Eylul = pd.read_csv('Eylül.csv')\n",
    "Ekim = pd.read_csv('Ekim.csv')\n",
    "Kasım = pd.read_csv('Kasım.csv')\n",
    "Aralik = pd.read_csv('Aralık.csv')\n",
    "hava_durumu = pd.read_csv('hava_durumu.csv', encoding= 'unicode_escape')"
   ]
  },
  {
   "cell_type": "code",
   "execution_count": 3,
   "metadata": {},
   "outputs": [],
   "source": [
    "flights_total = pd.concat([Ocak, Subat, Mart, Nisan, Mayıs, Haziran, Temmuz, Agustos, Eylul, Ekim, Kasım, Aralik])"
   ]
  },
  {
   "cell_type": "code",
   "execution_count": 4,
   "metadata": {},
   "outputs": [
    {
     "output_type": "execute_result",
     "data": {
      "text/plain": [
       "   YEAR  MONTH  DAY_OF_MONTH  DAY_OF_WEEK     FL_DATE OP_CARRIER ORIGIN DEST  \\\n",
       "0  2019      1             3            4  2019-01-03         9E    TYS  ATL   \n",
       "1  2019      1             4            5  2019-01-04         9E    TYS  ATL   \n",
       "2  2019      1             5            6  2019-01-05         9E    ATL  SGF   \n",
       "3  2019      1             6            7  2019-01-06         9E    ATL  SGF   \n",
       "4  2019      1             7            1  2019-01-07         9E    ATL  SGF   \n",
       "5  2019      1             8            2  2019-01-08         9E    ATL  SGF   \n",
       "6  2019      1             9            3  2019-01-09         9E    ATL  SGF   \n",
       "7  2019      1            10            4  2019-01-10         9E    ATL  SGF   \n",
       "8  2019      1            11            5  2019-01-11         9E    ATL  SGF   \n",
       "9  2019      1            12            6  2019-01-12         9E    ATL  SGF   \n",
       "\n",
       "   DEP_TIME  DEP_DELAY_NEW  DEP_DEL15  TAXI_OUT  WHEELS_OFF  WHEELS_ON  \\\n",
       "0    1205.0           25.0        1.0      30.0      1235.0     1311.0   \n",
       "1    1250.0           70.0        1.0      35.0      1325.0     1403.0   \n",
       "2     956.0            6.0        0.0      20.0      1016.0     1040.0   \n",
       "3     945.0            0.0        0.0      16.0      1001.0     1026.0   \n",
       "4     947.0            0.0        0.0      25.0      1012.0     1040.0   \n",
       "5     950.0            0.0        0.0      18.0      1008.0     1036.0   \n",
       "6     945.0            0.0        0.0      23.0      1008.0     1037.0   \n",
       "7     943.0            0.0        0.0      19.0      1002.0     1028.0   \n",
       "8     945.0            0.0        0.0      33.0      1018.0     1049.0   \n",
       "9     949.0            0.0        0.0      18.0      1007.0     1038.0   \n",
       "\n",
       "   TAXI_IN  ARR_TIME  ARR_DELAY_NEW  ARR_DEL15  CANCELLED  \\\n",
       "0      4.0    1315.0           25.0        1.0        0.0   \n",
       "1      9.0    1412.0           82.0        1.0        0.0   \n",
       "2      3.0    1043.0            0.0        0.0        0.0   \n",
       "3      3.0    1029.0            0.0        0.0        0.0   \n",
       "4      4.0    1044.0            0.0        0.0        0.0   \n",
       "5      4.0    1040.0            0.0        0.0        0.0   \n",
       "6      8.0    1045.0            0.0        0.0        0.0   \n",
       "7      4.0    1032.0            0.0        0.0        0.0   \n",
       "8     24.0    1113.0           20.0        1.0        0.0   \n",
       "9      5.0    1043.0            0.0        0.0        0.0   \n",
       "\n",
       "   ACTUAL_ELAPSED_TIME  AIR_TIME  FLIGHTS  DISTANCE  CARRIER_DELAY  \\\n",
       "0                 70.0      36.0      1.0     152.0            0.0   \n",
       "1                 82.0      38.0      1.0     152.0            0.0   \n",
       "2                107.0      84.0      1.0     563.0            NaN   \n",
       "3                104.0      85.0      1.0     563.0            NaN   \n",
       "4                117.0      88.0      1.0     563.0            NaN   \n",
       "5                110.0      88.0      1.0     563.0            NaN   \n",
       "6                120.0      89.0      1.0     563.0            NaN   \n",
       "7                109.0      86.0      1.0     563.0            NaN   \n",
       "8                148.0      91.0      1.0     563.0            0.0   \n",
       "9                114.0      91.0      1.0     563.0            NaN   \n",
       "\n",
       "   WEATHER_DELAY  NAS_DELAY  SECURITY_DELAY  LATE_AIRCRAFT_DELAY  Unnamed: 28  \n",
       "0            0.0        0.0             0.0                 25.0          NaN  \n",
       "1            0.0       12.0             0.0                 70.0          NaN  \n",
       "2            NaN        NaN             NaN                  NaN          NaN  \n",
       "3            NaN        NaN             NaN                  NaN          NaN  \n",
       "4            NaN        NaN             NaN                  NaN          NaN  \n",
       "5            NaN        NaN             NaN                  NaN          NaN  \n",
       "6            NaN        NaN             NaN                  NaN          NaN  \n",
       "7            NaN        NaN             NaN                  NaN          NaN  \n",
       "8            0.0       20.0             0.0                  0.0          NaN  \n",
       "9            NaN        NaN             NaN                  NaN          NaN  "
      ],
      "text/html": "<div>\n<style scoped>\n    .dataframe tbody tr th:only-of-type {\n        vertical-align: middle;\n    }\n\n    .dataframe tbody tr th {\n        vertical-align: top;\n    }\n\n    .dataframe thead th {\n        text-align: right;\n    }\n</style>\n<table border=\"1\" class=\"dataframe\">\n  <thead>\n    <tr style=\"text-align: right;\">\n      <th></th>\n      <th>YEAR</th>\n      <th>MONTH</th>\n      <th>DAY_OF_MONTH</th>\n      <th>DAY_OF_WEEK</th>\n      <th>FL_DATE</th>\n      <th>OP_CARRIER</th>\n      <th>ORIGIN</th>\n      <th>DEST</th>\n      <th>DEP_TIME</th>\n      <th>DEP_DELAY_NEW</th>\n      <th>DEP_DEL15</th>\n      <th>TAXI_OUT</th>\n      <th>WHEELS_OFF</th>\n      <th>WHEELS_ON</th>\n      <th>TAXI_IN</th>\n      <th>ARR_TIME</th>\n      <th>ARR_DELAY_NEW</th>\n      <th>ARR_DEL15</th>\n      <th>CANCELLED</th>\n      <th>ACTUAL_ELAPSED_TIME</th>\n      <th>AIR_TIME</th>\n      <th>FLIGHTS</th>\n      <th>DISTANCE</th>\n      <th>CARRIER_DELAY</th>\n      <th>WEATHER_DELAY</th>\n      <th>NAS_DELAY</th>\n      <th>SECURITY_DELAY</th>\n      <th>LATE_AIRCRAFT_DELAY</th>\n      <th>Unnamed: 28</th>\n    </tr>\n  </thead>\n  <tbody>\n    <tr>\n      <th>0</th>\n      <td>2019</td>\n      <td>1</td>\n      <td>3</td>\n      <td>4</td>\n      <td>2019-01-03</td>\n      <td>9E</td>\n      <td>TYS</td>\n      <td>ATL</td>\n      <td>1205.0</td>\n      <td>25.0</td>\n      <td>1.0</td>\n      <td>30.0</td>\n      <td>1235.0</td>\n      <td>1311.0</td>\n      <td>4.0</td>\n      <td>1315.0</td>\n      <td>25.0</td>\n      <td>1.0</td>\n      <td>0.0</td>\n      <td>70.0</td>\n      <td>36.0</td>\n      <td>1.0</td>\n      <td>152.0</td>\n      <td>0.0</td>\n      <td>0.0</td>\n      <td>0.0</td>\n      <td>0.0</td>\n      <td>25.0</td>\n      <td>NaN</td>\n    </tr>\n    <tr>\n      <th>1</th>\n      <td>2019</td>\n      <td>1</td>\n      <td>4</td>\n      <td>5</td>\n      <td>2019-01-04</td>\n      <td>9E</td>\n      <td>TYS</td>\n      <td>ATL</td>\n      <td>1250.0</td>\n      <td>70.0</td>\n      <td>1.0</td>\n      <td>35.0</td>\n      <td>1325.0</td>\n      <td>1403.0</td>\n      <td>9.0</td>\n      <td>1412.0</td>\n      <td>82.0</td>\n      <td>1.0</td>\n      <td>0.0</td>\n      <td>82.0</td>\n      <td>38.0</td>\n      <td>1.0</td>\n      <td>152.0</td>\n      <td>0.0</td>\n      <td>0.0</td>\n      <td>12.0</td>\n      <td>0.0</td>\n      <td>70.0</td>\n      <td>NaN</td>\n    </tr>\n    <tr>\n      <th>2</th>\n      <td>2019</td>\n      <td>1</td>\n      <td>5</td>\n      <td>6</td>\n      <td>2019-01-05</td>\n      <td>9E</td>\n      <td>ATL</td>\n      <td>SGF</td>\n      <td>956.0</td>\n      <td>6.0</td>\n      <td>0.0</td>\n      <td>20.0</td>\n      <td>1016.0</td>\n      <td>1040.0</td>\n      <td>3.0</td>\n      <td>1043.0</td>\n      <td>0.0</td>\n      <td>0.0</td>\n      <td>0.0</td>\n      <td>107.0</td>\n      <td>84.0</td>\n      <td>1.0</td>\n      <td>563.0</td>\n      <td>NaN</td>\n      <td>NaN</td>\n      <td>NaN</td>\n      <td>NaN</td>\n      <td>NaN</td>\n      <td>NaN</td>\n    </tr>\n    <tr>\n      <th>3</th>\n      <td>2019</td>\n      <td>1</td>\n      <td>6</td>\n      <td>7</td>\n      <td>2019-01-06</td>\n      <td>9E</td>\n      <td>ATL</td>\n      <td>SGF</td>\n      <td>945.0</td>\n      <td>0.0</td>\n      <td>0.0</td>\n      <td>16.0</td>\n      <td>1001.0</td>\n      <td>1026.0</td>\n      <td>3.0</td>\n      <td>1029.0</td>\n      <td>0.0</td>\n      <td>0.0</td>\n      <td>0.0</td>\n      <td>104.0</td>\n      <td>85.0</td>\n      <td>1.0</td>\n      <td>563.0</td>\n      <td>NaN</td>\n      <td>NaN</td>\n      <td>NaN</td>\n      <td>NaN</td>\n      <td>NaN</td>\n      <td>NaN</td>\n    </tr>\n    <tr>\n      <th>4</th>\n      <td>2019</td>\n      <td>1</td>\n      <td>7</td>\n      <td>1</td>\n      <td>2019-01-07</td>\n      <td>9E</td>\n      <td>ATL</td>\n      <td>SGF</td>\n      <td>947.0</td>\n      <td>0.0</td>\n      <td>0.0</td>\n      <td>25.0</td>\n      <td>1012.0</td>\n      <td>1040.0</td>\n      <td>4.0</td>\n      <td>1044.0</td>\n      <td>0.0</td>\n      <td>0.0</td>\n      <td>0.0</td>\n      <td>117.0</td>\n      <td>88.0</td>\n      <td>1.0</td>\n      <td>563.0</td>\n      <td>NaN</td>\n      <td>NaN</td>\n      <td>NaN</td>\n      <td>NaN</td>\n      <td>NaN</td>\n      <td>NaN</td>\n    </tr>\n    <tr>\n      <th>5</th>\n      <td>2019</td>\n      <td>1</td>\n      <td>8</td>\n      <td>2</td>\n      <td>2019-01-08</td>\n      <td>9E</td>\n      <td>ATL</td>\n      <td>SGF</td>\n      <td>950.0</td>\n      <td>0.0</td>\n      <td>0.0</td>\n      <td>18.0</td>\n      <td>1008.0</td>\n      <td>1036.0</td>\n      <td>4.0</td>\n      <td>1040.0</td>\n      <td>0.0</td>\n      <td>0.0</td>\n      <td>0.0</td>\n      <td>110.0</td>\n      <td>88.0</td>\n      <td>1.0</td>\n      <td>563.0</td>\n      <td>NaN</td>\n      <td>NaN</td>\n      <td>NaN</td>\n      <td>NaN</td>\n      <td>NaN</td>\n      <td>NaN</td>\n    </tr>\n    <tr>\n      <th>6</th>\n      <td>2019</td>\n      <td>1</td>\n      <td>9</td>\n      <td>3</td>\n      <td>2019-01-09</td>\n      <td>9E</td>\n      <td>ATL</td>\n      <td>SGF</td>\n      <td>945.0</td>\n      <td>0.0</td>\n      <td>0.0</td>\n      <td>23.0</td>\n      <td>1008.0</td>\n      <td>1037.0</td>\n      <td>8.0</td>\n      <td>1045.0</td>\n      <td>0.0</td>\n      <td>0.0</td>\n      <td>0.0</td>\n      <td>120.0</td>\n      <td>89.0</td>\n      <td>1.0</td>\n      <td>563.0</td>\n      <td>NaN</td>\n      <td>NaN</td>\n      <td>NaN</td>\n      <td>NaN</td>\n      <td>NaN</td>\n      <td>NaN</td>\n    </tr>\n    <tr>\n      <th>7</th>\n      <td>2019</td>\n      <td>1</td>\n      <td>10</td>\n      <td>4</td>\n      <td>2019-01-10</td>\n      <td>9E</td>\n      <td>ATL</td>\n      <td>SGF</td>\n      <td>943.0</td>\n      <td>0.0</td>\n      <td>0.0</td>\n      <td>19.0</td>\n      <td>1002.0</td>\n      <td>1028.0</td>\n      <td>4.0</td>\n      <td>1032.0</td>\n      <td>0.0</td>\n      <td>0.0</td>\n      <td>0.0</td>\n      <td>109.0</td>\n      <td>86.0</td>\n      <td>1.0</td>\n      <td>563.0</td>\n      <td>NaN</td>\n      <td>NaN</td>\n      <td>NaN</td>\n      <td>NaN</td>\n      <td>NaN</td>\n      <td>NaN</td>\n    </tr>\n    <tr>\n      <th>8</th>\n      <td>2019</td>\n      <td>1</td>\n      <td>11</td>\n      <td>5</td>\n      <td>2019-01-11</td>\n      <td>9E</td>\n      <td>ATL</td>\n      <td>SGF</td>\n      <td>945.0</td>\n      <td>0.0</td>\n      <td>0.0</td>\n      <td>33.0</td>\n      <td>1018.0</td>\n      <td>1049.0</td>\n      <td>24.0</td>\n      <td>1113.0</td>\n      <td>20.0</td>\n      <td>1.0</td>\n      <td>0.0</td>\n      <td>148.0</td>\n      <td>91.0</td>\n      <td>1.0</td>\n      <td>563.0</td>\n      <td>0.0</td>\n      <td>0.0</td>\n      <td>20.0</td>\n      <td>0.0</td>\n      <td>0.0</td>\n      <td>NaN</td>\n    </tr>\n    <tr>\n      <th>9</th>\n      <td>2019</td>\n      <td>1</td>\n      <td>12</td>\n      <td>6</td>\n      <td>2019-01-12</td>\n      <td>9E</td>\n      <td>ATL</td>\n      <td>SGF</td>\n      <td>949.0</td>\n      <td>0.0</td>\n      <td>0.0</td>\n      <td>18.0</td>\n      <td>1007.0</td>\n      <td>1038.0</td>\n      <td>5.0</td>\n      <td>1043.0</td>\n      <td>0.0</td>\n      <td>0.0</td>\n      <td>0.0</td>\n      <td>114.0</td>\n      <td>91.0</td>\n      <td>1.0</td>\n      <td>563.0</td>\n      <td>NaN</td>\n      <td>NaN</td>\n      <td>NaN</td>\n      <td>NaN</td>\n      <td>NaN</td>\n      <td>NaN</td>\n    </tr>\n  </tbody>\n</table>\n</div>"
     },
     "metadata": {},
     "execution_count": 4
    }
   ],
   "source": [
    "flights_total.head(10)"
   ]
  },
  {
   "cell_type": "code",
   "execution_count": 5,
   "metadata": {},
   "outputs": [],
   "source": [
    "flights_total_ATL = flights_total.loc[flights_total['ORIGIN'] == 'ATL']"
   ]
  },
  {
   "cell_type": "code",
   "execution_count": 6,
   "metadata": {},
   "outputs": [
    {
     "output_type": "execute_result",
     "data": {
      "text/plain": [
       "(395009, 29)"
      ]
     },
     "metadata": {},
     "execution_count": 6
    }
   ],
   "source": [
    "flights_total_ATL.shape"
   ]
  },
  {
   "cell_type": "code",
   "execution_count": 7,
   "metadata": {},
   "outputs": [
    {
     "output_type": "execute_result",
     "data": {
      "text/plain": [
       "YEAR                        0\n",
       "MONTH                       0\n",
       "DAY_OF_MONTH                0\n",
       "DAY_OF_WEEK                 0\n",
       "FL_DATE                     0\n",
       "OP_CARRIER                  0\n",
       "ORIGIN                      0\n",
       "DEST                        0\n",
       "DEP_TIME                 2355\n",
       "DEP_DELAY_NEW            2355\n",
       "DEP_DEL15                2355\n",
       "TAXI_OUT                 2388\n",
       "WHEELS_OFF               2388\n",
       "WHEELS_ON                2483\n",
       "TAXI_IN                  2483\n",
       "ARR_TIME                 2483\n",
       "ARR_DELAY_NEW            3308\n",
       "ARR_DEL15                3308\n",
       "CANCELLED                   0\n",
       "ACTUAL_ELAPSED_TIME      3308\n",
       "AIR_TIME                 3308\n",
       "FLIGHTS                     0\n",
       "DISTANCE                    0\n",
       "CARRIER_DELAY          333490\n",
       "WEATHER_DELAY          333490\n",
       "NAS_DELAY              333490\n",
       "SECURITY_DELAY         333490\n",
       "LATE_AIRCRAFT_DELAY    333490\n",
       "Unnamed: 28            395009\n",
       "dtype: int64"
      ]
     },
     "metadata": {},
     "execution_count": 7
    }
   ],
   "source": [
    "flights_total_ATL.isnull().sum()"
   ]
  },
  {
   "cell_type": "code",
   "execution_count": 8,
   "metadata": {},
   "outputs": [
    {
     "output_type": "execute_result",
     "data": {
      "text/plain": [
       "   NAME  ELEVATION       DATE  Ort_Rüzgar  Kar  Ort_Sýcaklýk  TMAX  TMIN  \\\n",
       "0   DEN     1650.2   1/1/2019        5.14  0.0             4    12    -5   \n",
       "1   DEN     1650.2   1/2/2019        8.95  0.0            15    38     2   \n",
       "2   DEN     1650.2   1/3/2019        9.62  0.0            32    56    16   \n",
       "3   DEN     1650.2   1/4/2019        9.40  0.0            42    62    30   \n",
       "4   DEN     1650.2   1/5/2019        7.61  0.0            44    60    33   \n",
       "5   DEN     1650.2   1/6/2019        9.40  0.0            42    58    30   \n",
       "6   DEN     1650.2   1/7/2019       14.99  0.0            40    52    16   \n",
       "7   DEN     1650.2   1/8/2019       10.96  0.0            35    50    22   \n",
       "8   DEN     1650.2   1/9/2019        4.92  0.0            33    50    23   \n",
       "9   DEN     1650.2  1/10/2019        8.05  0.0            41    61    28   \n",
       "10  DEN     1650.2  1/11/2019       11.41  1.0            38    44    32   \n",
       "11  DEN     1650.2  1/12/2019        6.71  0.3            32    35    17   \n",
       "12  DEN     1650.2  1/13/2019        7.61  0.0            25    35    17   \n",
       "13  DEN     1650.2  1/14/2019       11.63  0.0            28    43    20   \n",
       "14  DEN     1650.2  1/15/2019       10.96  0.0            32    46    21   \n",
       "15  DEN     1650.2  1/16/2019        7.61  0.0            35    46    29   \n",
       "16  DEN     1650.2  1/17/2019       10.96  0.0            40    54    32   \n",
       "17  DEN     1650.2  1/18/2019       10.51  0.3            37    41    23   \n",
       "18  DEN     1650.2  1/19/2019        8.50  0.0            32    48    22   \n",
       "19  DEN     1650.2  1/20/2019       11.18  0.0            41    55    33   \n",
       "20  DEN     1650.2  1/21/2019       11.18  0.2            39    58    22   \n",
       "21  DEN     1650.2  1/22/2019       19.01  1.1            27    30    13   \n",
       "22  DEN     1650.2  1/23/2019       10.51  0.0            26    41    16   \n",
       "23  DEN     1650.2  1/24/2019       10.07  1.0            25    29    12   \n",
       "24  DEN     1650.2  1/25/2019        9.40  0.0            19    32     8   \n",
       "\n",
       "    2Dk_max_rüzgar  5Dk_max_rüzgar  \n",
       "0             12.1            15.0  \n",
       "1             17.0            21.0  \n",
       "2             17.0            21.9  \n",
       "3             16.1            19.9  \n",
       "4             17.0            23.0  \n",
       "5             23.9            33.1  \n",
       "6             40.0            53.9  \n",
       "7             23.0            29.1  \n",
       "8             12.1            13.0  \n",
       "9             16.1            21.9  \n",
       "10            19.9            25.9  \n",
       "11            17.0            21.9  \n",
       "12            14.1            15.0  \n",
       "13            17.0            21.9  \n",
       "14            17.0            25.9  \n",
       "15            16.1            19.0  \n",
       "16            21.9            28.0  \n",
       "17            32.0            42.9  \n",
       "18            15.0            18.1  \n",
       "19            21.0            25.9  \n",
       "20            38.0            53.9  \n",
       "21            38.0            53.9  \n",
       "22            18.1            23.9  \n",
       "23            23.9            31.1  \n",
       "24            15.0            19.0  "
      ],
      "text/html": "<div>\n<style scoped>\n    .dataframe tbody tr th:only-of-type {\n        vertical-align: middle;\n    }\n\n    .dataframe tbody tr th {\n        vertical-align: top;\n    }\n\n    .dataframe thead th {\n        text-align: right;\n    }\n</style>\n<table border=\"1\" class=\"dataframe\">\n  <thead>\n    <tr style=\"text-align: right;\">\n      <th></th>\n      <th>NAME</th>\n      <th>ELEVATION</th>\n      <th>DATE</th>\n      <th>Ort_Rüzgar</th>\n      <th>Kar</th>\n      <th>Ort_Sýcaklýk</th>\n      <th>TMAX</th>\n      <th>TMIN</th>\n      <th>2Dk_max_rüzgar</th>\n      <th>5Dk_max_rüzgar</th>\n    </tr>\n  </thead>\n  <tbody>\n    <tr>\n      <th>0</th>\n      <td>DEN</td>\n      <td>1650.2</td>\n      <td>1/1/2019</td>\n      <td>5.14</td>\n      <td>0.0</td>\n      <td>4</td>\n      <td>12</td>\n      <td>-5</td>\n      <td>12.1</td>\n      <td>15.0</td>\n    </tr>\n    <tr>\n      <th>1</th>\n      <td>DEN</td>\n      <td>1650.2</td>\n      <td>1/2/2019</td>\n      <td>8.95</td>\n      <td>0.0</td>\n      <td>15</td>\n      <td>38</td>\n      <td>2</td>\n      <td>17.0</td>\n      <td>21.0</td>\n    </tr>\n    <tr>\n      <th>2</th>\n      <td>DEN</td>\n      <td>1650.2</td>\n      <td>1/3/2019</td>\n      <td>9.62</td>\n      <td>0.0</td>\n      <td>32</td>\n      <td>56</td>\n      <td>16</td>\n      <td>17.0</td>\n      <td>21.9</td>\n    </tr>\n    <tr>\n      <th>3</th>\n      <td>DEN</td>\n      <td>1650.2</td>\n      <td>1/4/2019</td>\n      <td>9.40</td>\n      <td>0.0</td>\n      <td>42</td>\n      <td>62</td>\n      <td>30</td>\n      <td>16.1</td>\n      <td>19.9</td>\n    </tr>\n    <tr>\n      <th>4</th>\n      <td>DEN</td>\n      <td>1650.2</td>\n      <td>1/5/2019</td>\n      <td>7.61</td>\n      <td>0.0</td>\n      <td>44</td>\n      <td>60</td>\n      <td>33</td>\n      <td>17.0</td>\n      <td>23.0</td>\n    </tr>\n    <tr>\n      <th>5</th>\n      <td>DEN</td>\n      <td>1650.2</td>\n      <td>1/6/2019</td>\n      <td>9.40</td>\n      <td>0.0</td>\n      <td>42</td>\n      <td>58</td>\n      <td>30</td>\n      <td>23.9</td>\n      <td>33.1</td>\n    </tr>\n    <tr>\n      <th>6</th>\n      <td>DEN</td>\n      <td>1650.2</td>\n      <td>1/7/2019</td>\n      <td>14.99</td>\n      <td>0.0</td>\n      <td>40</td>\n      <td>52</td>\n      <td>16</td>\n      <td>40.0</td>\n      <td>53.9</td>\n    </tr>\n    <tr>\n      <th>7</th>\n      <td>DEN</td>\n      <td>1650.2</td>\n      <td>1/8/2019</td>\n      <td>10.96</td>\n      <td>0.0</td>\n      <td>35</td>\n      <td>50</td>\n      <td>22</td>\n      <td>23.0</td>\n      <td>29.1</td>\n    </tr>\n    <tr>\n      <th>8</th>\n      <td>DEN</td>\n      <td>1650.2</td>\n      <td>1/9/2019</td>\n      <td>4.92</td>\n      <td>0.0</td>\n      <td>33</td>\n      <td>50</td>\n      <td>23</td>\n      <td>12.1</td>\n      <td>13.0</td>\n    </tr>\n    <tr>\n      <th>9</th>\n      <td>DEN</td>\n      <td>1650.2</td>\n      <td>1/10/2019</td>\n      <td>8.05</td>\n      <td>0.0</td>\n      <td>41</td>\n      <td>61</td>\n      <td>28</td>\n      <td>16.1</td>\n      <td>21.9</td>\n    </tr>\n    <tr>\n      <th>10</th>\n      <td>DEN</td>\n      <td>1650.2</td>\n      <td>1/11/2019</td>\n      <td>11.41</td>\n      <td>1.0</td>\n      <td>38</td>\n      <td>44</td>\n      <td>32</td>\n      <td>19.9</td>\n      <td>25.9</td>\n    </tr>\n    <tr>\n      <th>11</th>\n      <td>DEN</td>\n      <td>1650.2</td>\n      <td>1/12/2019</td>\n      <td>6.71</td>\n      <td>0.3</td>\n      <td>32</td>\n      <td>35</td>\n      <td>17</td>\n      <td>17.0</td>\n      <td>21.9</td>\n    </tr>\n    <tr>\n      <th>12</th>\n      <td>DEN</td>\n      <td>1650.2</td>\n      <td>1/13/2019</td>\n      <td>7.61</td>\n      <td>0.0</td>\n      <td>25</td>\n      <td>35</td>\n      <td>17</td>\n      <td>14.1</td>\n      <td>15.0</td>\n    </tr>\n    <tr>\n      <th>13</th>\n      <td>DEN</td>\n      <td>1650.2</td>\n      <td>1/14/2019</td>\n      <td>11.63</td>\n      <td>0.0</td>\n      <td>28</td>\n      <td>43</td>\n      <td>20</td>\n      <td>17.0</td>\n      <td>21.9</td>\n    </tr>\n    <tr>\n      <th>14</th>\n      <td>DEN</td>\n      <td>1650.2</td>\n      <td>1/15/2019</td>\n      <td>10.96</td>\n      <td>0.0</td>\n      <td>32</td>\n      <td>46</td>\n      <td>21</td>\n      <td>17.0</td>\n      <td>25.9</td>\n    </tr>\n    <tr>\n      <th>15</th>\n      <td>DEN</td>\n      <td>1650.2</td>\n      <td>1/16/2019</td>\n      <td>7.61</td>\n      <td>0.0</td>\n      <td>35</td>\n      <td>46</td>\n      <td>29</td>\n      <td>16.1</td>\n      <td>19.0</td>\n    </tr>\n    <tr>\n      <th>16</th>\n      <td>DEN</td>\n      <td>1650.2</td>\n      <td>1/17/2019</td>\n      <td>10.96</td>\n      <td>0.0</td>\n      <td>40</td>\n      <td>54</td>\n      <td>32</td>\n      <td>21.9</td>\n      <td>28.0</td>\n    </tr>\n    <tr>\n      <th>17</th>\n      <td>DEN</td>\n      <td>1650.2</td>\n      <td>1/18/2019</td>\n      <td>10.51</td>\n      <td>0.3</td>\n      <td>37</td>\n      <td>41</td>\n      <td>23</td>\n      <td>32.0</td>\n      <td>42.9</td>\n    </tr>\n    <tr>\n      <th>18</th>\n      <td>DEN</td>\n      <td>1650.2</td>\n      <td>1/19/2019</td>\n      <td>8.50</td>\n      <td>0.0</td>\n      <td>32</td>\n      <td>48</td>\n      <td>22</td>\n      <td>15.0</td>\n      <td>18.1</td>\n    </tr>\n    <tr>\n      <th>19</th>\n      <td>DEN</td>\n      <td>1650.2</td>\n      <td>1/20/2019</td>\n      <td>11.18</td>\n      <td>0.0</td>\n      <td>41</td>\n      <td>55</td>\n      <td>33</td>\n      <td>21.0</td>\n      <td>25.9</td>\n    </tr>\n    <tr>\n      <th>20</th>\n      <td>DEN</td>\n      <td>1650.2</td>\n      <td>1/21/2019</td>\n      <td>11.18</td>\n      <td>0.2</td>\n      <td>39</td>\n      <td>58</td>\n      <td>22</td>\n      <td>38.0</td>\n      <td>53.9</td>\n    </tr>\n    <tr>\n      <th>21</th>\n      <td>DEN</td>\n      <td>1650.2</td>\n      <td>1/22/2019</td>\n      <td>19.01</td>\n      <td>1.1</td>\n      <td>27</td>\n      <td>30</td>\n      <td>13</td>\n      <td>38.0</td>\n      <td>53.9</td>\n    </tr>\n    <tr>\n      <th>22</th>\n      <td>DEN</td>\n      <td>1650.2</td>\n      <td>1/23/2019</td>\n      <td>10.51</td>\n      <td>0.0</td>\n      <td>26</td>\n      <td>41</td>\n      <td>16</td>\n      <td>18.1</td>\n      <td>23.9</td>\n    </tr>\n    <tr>\n      <th>23</th>\n      <td>DEN</td>\n      <td>1650.2</td>\n      <td>1/24/2019</td>\n      <td>10.07</td>\n      <td>1.0</td>\n      <td>25</td>\n      <td>29</td>\n      <td>12</td>\n      <td>23.9</td>\n      <td>31.1</td>\n    </tr>\n    <tr>\n      <th>24</th>\n      <td>DEN</td>\n      <td>1650.2</td>\n      <td>1/25/2019</td>\n      <td>9.40</td>\n      <td>0.0</td>\n      <td>19</td>\n      <td>32</td>\n      <td>8</td>\n      <td>15.0</td>\n      <td>19.0</td>\n    </tr>\n  </tbody>\n</table>\n</div>"
     },
     "metadata": {},
     "execution_count": 8
    }
   ],
   "source": [
    "hava_durumu.head(25)"
   ]
  },
  {
   "cell_type": "code",
   "execution_count": 9,
   "metadata": {},
   "outputs": [
    {
     "output_type": "stream",
     "name": "stderr",
     "text": [
      "<ipython-input-9-c2ebc2e61ea6>:1: SettingWithCopyWarning: \nA value is trying to be set on a copy of a slice from a DataFrame.\nTry using .loc[row_indexer,col_indexer] = value instead\n\nSee the caveats in the documentation: https://pandas.pydata.org/pandas-docs/stable/user_guide/indexing.html#returning-a-view-versus-a-copy\n  flights_total_ATL['FL_DATE'] = pd.to_datetime(flights_total_ATL['FL_DATE'], format='%Y/%m/%d')\n"
     ]
    }
   ],
   "source": [
    "flights_total_ATL['FL_DATE'] = pd.to_datetime(flights_total_ATL['FL_DATE'], format='%Y/%m/%d')\n",
    "hava_durumu['DATE'] = pd.to_datetime(hava_durumu['DATE'], format='%m/%d/%Y')"
   ]
  },
  {
   "cell_type": "code",
   "execution_count": 10,
   "metadata": {},
   "outputs": [
    {
     "output_type": "execute_result",
     "data": {
      "text/plain": [
       "YEAR                            int64\n",
       "MONTH                           int64\n",
       "DAY_OF_MONTH                    int64\n",
       "DAY_OF_WEEK                     int64\n",
       "FL_DATE                datetime64[ns]\n",
       "OP_CARRIER                     object\n",
       "ORIGIN                         object\n",
       "DEST                           object\n",
       "DEP_TIME                      float64\n",
       "DEP_DELAY_NEW                 float64\n",
       "DEP_DEL15                     float64\n",
       "TAXI_OUT                      float64\n",
       "WHEELS_OFF                    float64\n",
       "WHEELS_ON                     float64\n",
       "TAXI_IN                       float64\n",
       "ARR_TIME                      float64\n",
       "ARR_DELAY_NEW                 float64\n",
       "ARR_DEL15                     float64\n",
       "CANCELLED                     float64\n",
       "ACTUAL_ELAPSED_TIME           float64\n",
       "AIR_TIME                      float64\n",
       "FLIGHTS                       float64\n",
       "DISTANCE                      float64\n",
       "CARRIER_DELAY                 float64\n",
       "WEATHER_DELAY                 float64\n",
       "NAS_DELAY                     float64\n",
       "SECURITY_DELAY                float64\n",
       "LATE_AIRCRAFT_DELAY           float64\n",
       "Unnamed: 28                   float64\n",
       "dtype: object"
      ]
     },
     "metadata": {},
     "execution_count": 10
    }
   ],
   "source": [
    "flights_total_ATL.dtypes"
   ]
  },
  {
   "cell_type": "code",
   "execution_count": 11,
   "metadata": {},
   "outputs": [
    {
     "output_type": "execute_result",
     "data": {
      "text/plain": [
       "   YEAR  MONTH  DAY_OF_MONTH  DAY_OF_WEEK    FL_DATE OP_CARRIER ORIGIN DEST  \\\n",
       "2  2019      1             5            6 2019-01-05         9E    ATL  SGF   \n",
       "3  2019      1             6            7 2019-01-06         9E    ATL  SGF   \n",
       "4  2019      1             7            1 2019-01-07         9E    ATL  SGF   \n",
       "5  2019      1             8            2 2019-01-08         9E    ATL  SGF   \n",
       "6  2019      1             9            3 2019-01-09         9E    ATL  SGF   \n",
       "\n",
       "   DEP_TIME  DEP_DELAY_NEW  DEP_DEL15  TAXI_OUT  WHEELS_OFF  WHEELS_ON  \\\n",
       "2     956.0            6.0        0.0      20.0      1016.0     1040.0   \n",
       "3     945.0            0.0        0.0      16.0      1001.0     1026.0   \n",
       "4     947.0            0.0        0.0      25.0      1012.0     1040.0   \n",
       "5     950.0            0.0        0.0      18.0      1008.0     1036.0   \n",
       "6     945.0            0.0        0.0      23.0      1008.0     1037.0   \n",
       "\n",
       "   TAXI_IN  ARR_TIME  ARR_DELAY_NEW  ARR_DEL15  CANCELLED  \\\n",
       "2      3.0    1043.0            0.0        0.0        0.0   \n",
       "3      3.0    1029.0            0.0        0.0        0.0   \n",
       "4      4.0    1044.0            0.0        0.0        0.0   \n",
       "5      4.0    1040.0            0.0        0.0        0.0   \n",
       "6      8.0    1045.0            0.0        0.0        0.0   \n",
       "\n",
       "   ACTUAL_ELAPSED_TIME  AIR_TIME  FLIGHTS  DISTANCE  CARRIER_DELAY  \\\n",
       "2                107.0      84.0      1.0     563.0            NaN   \n",
       "3                104.0      85.0      1.0     563.0            NaN   \n",
       "4                117.0      88.0      1.0     563.0            NaN   \n",
       "5                110.0      88.0      1.0     563.0            NaN   \n",
       "6                120.0      89.0      1.0     563.0            NaN   \n",
       "\n",
       "   WEATHER_DELAY  NAS_DELAY  SECURITY_DELAY  LATE_AIRCRAFT_DELAY  Unnamed: 28  \n",
       "2            NaN        NaN             NaN                  NaN          NaN  \n",
       "3            NaN        NaN             NaN                  NaN          NaN  \n",
       "4            NaN        NaN             NaN                  NaN          NaN  \n",
       "5            NaN        NaN             NaN                  NaN          NaN  \n",
       "6            NaN        NaN             NaN                  NaN          NaN  "
      ],
      "text/html": "<div>\n<style scoped>\n    .dataframe tbody tr th:only-of-type {\n        vertical-align: middle;\n    }\n\n    .dataframe tbody tr th {\n        vertical-align: top;\n    }\n\n    .dataframe thead th {\n        text-align: right;\n    }\n</style>\n<table border=\"1\" class=\"dataframe\">\n  <thead>\n    <tr style=\"text-align: right;\">\n      <th></th>\n      <th>YEAR</th>\n      <th>MONTH</th>\n      <th>DAY_OF_MONTH</th>\n      <th>DAY_OF_WEEK</th>\n      <th>FL_DATE</th>\n      <th>OP_CARRIER</th>\n      <th>ORIGIN</th>\n      <th>DEST</th>\n      <th>DEP_TIME</th>\n      <th>DEP_DELAY_NEW</th>\n      <th>DEP_DEL15</th>\n      <th>TAXI_OUT</th>\n      <th>WHEELS_OFF</th>\n      <th>WHEELS_ON</th>\n      <th>TAXI_IN</th>\n      <th>ARR_TIME</th>\n      <th>ARR_DELAY_NEW</th>\n      <th>ARR_DEL15</th>\n      <th>CANCELLED</th>\n      <th>ACTUAL_ELAPSED_TIME</th>\n      <th>AIR_TIME</th>\n      <th>FLIGHTS</th>\n      <th>DISTANCE</th>\n      <th>CARRIER_DELAY</th>\n      <th>WEATHER_DELAY</th>\n      <th>NAS_DELAY</th>\n      <th>SECURITY_DELAY</th>\n      <th>LATE_AIRCRAFT_DELAY</th>\n      <th>Unnamed: 28</th>\n    </tr>\n  </thead>\n  <tbody>\n    <tr>\n      <th>2</th>\n      <td>2019</td>\n      <td>1</td>\n      <td>5</td>\n      <td>6</td>\n      <td>2019-01-05</td>\n      <td>9E</td>\n      <td>ATL</td>\n      <td>SGF</td>\n      <td>956.0</td>\n      <td>6.0</td>\n      <td>0.0</td>\n      <td>20.0</td>\n      <td>1016.0</td>\n      <td>1040.0</td>\n      <td>3.0</td>\n      <td>1043.0</td>\n      <td>0.0</td>\n      <td>0.0</td>\n      <td>0.0</td>\n      <td>107.0</td>\n      <td>84.0</td>\n      <td>1.0</td>\n      <td>563.0</td>\n      <td>NaN</td>\n      <td>NaN</td>\n      <td>NaN</td>\n      <td>NaN</td>\n      <td>NaN</td>\n      <td>NaN</td>\n    </tr>\n    <tr>\n      <th>3</th>\n      <td>2019</td>\n      <td>1</td>\n      <td>6</td>\n      <td>7</td>\n      <td>2019-01-06</td>\n      <td>9E</td>\n      <td>ATL</td>\n      <td>SGF</td>\n      <td>945.0</td>\n      <td>0.0</td>\n      <td>0.0</td>\n      <td>16.0</td>\n      <td>1001.0</td>\n      <td>1026.0</td>\n      <td>3.0</td>\n      <td>1029.0</td>\n      <td>0.0</td>\n      <td>0.0</td>\n      <td>0.0</td>\n      <td>104.0</td>\n      <td>85.0</td>\n      <td>1.0</td>\n      <td>563.0</td>\n      <td>NaN</td>\n      <td>NaN</td>\n      <td>NaN</td>\n      <td>NaN</td>\n      <td>NaN</td>\n      <td>NaN</td>\n    </tr>\n    <tr>\n      <th>4</th>\n      <td>2019</td>\n      <td>1</td>\n      <td>7</td>\n      <td>1</td>\n      <td>2019-01-07</td>\n      <td>9E</td>\n      <td>ATL</td>\n      <td>SGF</td>\n      <td>947.0</td>\n      <td>0.0</td>\n      <td>0.0</td>\n      <td>25.0</td>\n      <td>1012.0</td>\n      <td>1040.0</td>\n      <td>4.0</td>\n      <td>1044.0</td>\n      <td>0.0</td>\n      <td>0.0</td>\n      <td>0.0</td>\n      <td>117.0</td>\n      <td>88.0</td>\n      <td>1.0</td>\n      <td>563.0</td>\n      <td>NaN</td>\n      <td>NaN</td>\n      <td>NaN</td>\n      <td>NaN</td>\n      <td>NaN</td>\n      <td>NaN</td>\n    </tr>\n    <tr>\n      <th>5</th>\n      <td>2019</td>\n      <td>1</td>\n      <td>8</td>\n      <td>2</td>\n      <td>2019-01-08</td>\n      <td>9E</td>\n      <td>ATL</td>\n      <td>SGF</td>\n      <td>950.0</td>\n      <td>0.0</td>\n      <td>0.0</td>\n      <td>18.0</td>\n      <td>1008.0</td>\n      <td>1036.0</td>\n      <td>4.0</td>\n      <td>1040.0</td>\n      <td>0.0</td>\n      <td>0.0</td>\n      <td>0.0</td>\n      <td>110.0</td>\n      <td>88.0</td>\n      <td>1.0</td>\n      <td>563.0</td>\n      <td>NaN</td>\n      <td>NaN</td>\n      <td>NaN</td>\n      <td>NaN</td>\n      <td>NaN</td>\n      <td>NaN</td>\n    </tr>\n    <tr>\n      <th>6</th>\n      <td>2019</td>\n      <td>1</td>\n      <td>9</td>\n      <td>3</td>\n      <td>2019-01-09</td>\n      <td>9E</td>\n      <td>ATL</td>\n      <td>SGF</td>\n      <td>945.0</td>\n      <td>0.0</td>\n      <td>0.0</td>\n      <td>23.0</td>\n      <td>1008.0</td>\n      <td>1037.0</td>\n      <td>8.0</td>\n      <td>1045.0</td>\n      <td>0.0</td>\n      <td>0.0</td>\n      <td>0.0</td>\n      <td>120.0</td>\n      <td>89.0</td>\n      <td>1.0</td>\n      <td>563.0</td>\n      <td>NaN</td>\n      <td>NaN</td>\n      <td>NaN</td>\n      <td>NaN</td>\n      <td>NaN</td>\n      <td>NaN</td>\n    </tr>\n  </tbody>\n</table>\n</div>"
     },
     "metadata": {},
     "execution_count": 11
    }
   ],
   "source": [
    "flights_total_ATL.head()"
   ]
  },
  {
   "cell_type": "code",
   "execution_count": 12,
   "metadata": {},
   "outputs": [
    {
     "output_type": "execute_result",
     "data": {
      "text/plain": [
       "NAME                      object\n",
       "ELEVATION                float64\n",
       "DATE              datetime64[ns]\n",
       "Ort_Rüzgar               float64\n",
       "Kar                      float64\n",
       "Ort_Sýcaklýk               int64\n",
       "TMAX                       int64\n",
       "TMIN                       int64\n",
       "2Dk_max_rüzgar           float64\n",
       "5Dk_max_rüzgar           float64\n",
       "dtype: object"
      ]
     },
     "metadata": {},
     "execution_count": 12
    }
   ],
   "source": [
    "hava_durumu.dtypes"
   ]
  },
  {
   "cell_type": "code",
   "execution_count": 13,
   "metadata": {},
   "outputs": [
    {
     "output_type": "execute_result",
     "data": {
      "text/plain": [
       "  NAME  ELEVATION       DATE  Ort_Rüzgar  Kar  Ort_Sýcaklýk  TMAX  TMIN  \\\n",
       "0  DEN     1650.2 2019-01-01        5.14  0.0             4    12    -5   \n",
       "1  DEN     1650.2 2019-01-02        8.95  0.0            15    38     2   \n",
       "2  DEN     1650.2 2019-01-03        9.62  0.0            32    56    16   \n",
       "3  DEN     1650.2 2019-01-04        9.40  0.0            42    62    30   \n",
       "4  DEN     1650.2 2019-01-05        7.61  0.0            44    60    33   \n",
       "\n",
       "   2Dk_max_rüzgar  5Dk_max_rüzgar  \n",
       "0            12.1            15.0  \n",
       "1            17.0            21.0  \n",
       "2            17.0            21.9  \n",
       "3            16.1            19.9  \n",
       "4            17.0            23.0  "
      ],
      "text/html": "<div>\n<style scoped>\n    .dataframe tbody tr th:only-of-type {\n        vertical-align: middle;\n    }\n\n    .dataframe tbody tr th {\n        vertical-align: top;\n    }\n\n    .dataframe thead th {\n        text-align: right;\n    }\n</style>\n<table border=\"1\" class=\"dataframe\">\n  <thead>\n    <tr style=\"text-align: right;\">\n      <th></th>\n      <th>NAME</th>\n      <th>ELEVATION</th>\n      <th>DATE</th>\n      <th>Ort_Rüzgar</th>\n      <th>Kar</th>\n      <th>Ort_Sýcaklýk</th>\n      <th>TMAX</th>\n      <th>TMIN</th>\n      <th>2Dk_max_rüzgar</th>\n      <th>5Dk_max_rüzgar</th>\n    </tr>\n  </thead>\n  <tbody>\n    <tr>\n      <th>0</th>\n      <td>DEN</td>\n      <td>1650.2</td>\n      <td>2019-01-01</td>\n      <td>5.14</td>\n      <td>0.0</td>\n      <td>4</td>\n      <td>12</td>\n      <td>-5</td>\n      <td>12.1</td>\n      <td>15.0</td>\n    </tr>\n    <tr>\n      <th>1</th>\n      <td>DEN</td>\n      <td>1650.2</td>\n      <td>2019-01-02</td>\n      <td>8.95</td>\n      <td>0.0</td>\n      <td>15</td>\n      <td>38</td>\n      <td>2</td>\n      <td>17.0</td>\n      <td>21.0</td>\n    </tr>\n    <tr>\n      <th>2</th>\n      <td>DEN</td>\n      <td>1650.2</td>\n      <td>2019-01-03</td>\n      <td>9.62</td>\n      <td>0.0</td>\n      <td>32</td>\n      <td>56</td>\n      <td>16</td>\n      <td>17.0</td>\n      <td>21.9</td>\n    </tr>\n    <tr>\n      <th>3</th>\n      <td>DEN</td>\n      <td>1650.2</td>\n      <td>2019-01-04</td>\n      <td>9.40</td>\n      <td>0.0</td>\n      <td>42</td>\n      <td>62</td>\n      <td>30</td>\n      <td>16.1</td>\n      <td>19.9</td>\n    </tr>\n    <tr>\n      <th>4</th>\n      <td>DEN</td>\n      <td>1650.2</td>\n      <td>2019-01-05</td>\n      <td>7.61</td>\n      <td>0.0</td>\n      <td>44</td>\n      <td>60</td>\n      <td>33</td>\n      <td>17.0</td>\n      <td>23.0</td>\n    </tr>\n  </tbody>\n</table>\n</div>"
     },
     "metadata": {},
     "execution_count": 13
    }
   ],
   "source": [
    "hava_durumu.head()"
   ]
  },
  {
   "cell_type": "code",
   "execution_count": 14,
   "metadata": {},
   "outputs": [],
   "source": [
    "flights_total_ATL = pd.merge(flights_total_ATL, hava_durumu,  how='inner', left_on=['ORIGIN', 'FL_DATE'], right_on = ['NAME','DATE'])"
   ]
  },
  {
   "cell_type": "code",
   "execution_count": 15,
   "metadata": {},
   "outputs": [
    {
     "output_type": "execute_result",
     "data": {
      "text/plain": [
       "(395009, 39)"
      ]
     },
     "metadata": {},
     "execution_count": 15
    }
   ],
   "source": [
    "flights_total_ATL.shape"
   ]
  },
  {
   "cell_type": "code",
   "execution_count": 16,
   "metadata": {},
   "outputs": [],
   "source": [
    "flights_total_ATL = flights_total_ATL.drop(['FL_DATE', 'CARRIER_DELAY', 'WEATHER_DELAY', 'NAS_DELAY', \n",
    "                                           'SECURITY_DELAY', 'LATE_AIRCRAFT_DELAY', 'Unnamed: 28', 'NAME', 'ORIGIN', 'FLIGHTS',\n",
    "                                           'DATE'], axis=1)"
   ]
  },
  {
   "cell_type": "code",
   "execution_count": 17,
   "metadata": {},
   "outputs": [
    {
     "output_type": "execute_result",
     "data": {
      "text/plain": [
       "YEAR                      0\n",
       "MONTH                     0\n",
       "DAY_OF_MONTH              0\n",
       "DAY_OF_WEEK               0\n",
       "OP_CARRIER                0\n",
       "DEST                      0\n",
       "DEP_TIME               2355\n",
       "DEP_DELAY_NEW          2355\n",
       "DEP_DEL15              2355\n",
       "TAXI_OUT               2388\n",
       "WHEELS_OFF             2388\n",
       "WHEELS_ON              2483\n",
       "TAXI_IN                2483\n",
       "ARR_TIME               2483\n",
       "ARR_DELAY_NEW          3308\n",
       "ARR_DEL15              3308\n",
       "CANCELLED                 0\n",
       "ACTUAL_ELAPSED_TIME    3308\n",
       "AIR_TIME               3308\n",
       "DISTANCE                  0\n",
       "ELEVATION                 0\n",
       "Ort_Rüzgar                0\n",
       "Kar                    5307\n",
       "Ort_Sýcaklýk              0\n",
       "TMAX                      0\n",
       "TMIN                      0\n",
       "2Dk_max_rüzgar            0\n",
       "5Dk_max_rüzgar         1137\n",
       "dtype: int64"
      ]
     },
     "metadata": {},
     "execution_count": 17
    }
   ],
   "source": [
    "flights_total_ATL.isnull().sum()"
   ]
  },
  {
   "cell_type": "code",
   "execution_count": 18,
   "metadata": {},
   "outputs": [],
   "source": [
    "flights_total_ATL[\"DEP_TIME\"].fillna(0, inplace = True)\n",
    "flights_total_ATL[\"DEP_DELAY_NEW\"].fillna(0, inplace = True)\n",
    "flights_total_ATL[\"DEP_DEL15\"].fillna(0, inplace = True)\n",
    "flights_total_ATL[\"TAXI_OUT\"].fillna(0, inplace = True)\n",
    "flights_total_ATL[\"WHEELS_OFF\"].fillna(0, inplace = True)\n",
    "flights_total_ATL[\"WHEELS_ON\"].fillna(0, inplace = True)\n",
    "flights_total_ATL[\"TAXI_IN\"].fillna(0, inplace = True)\n",
    "flights_total_ATL[\"ARR_TIME\"].fillna(0, inplace = True)\n",
    "flights_total_ATL[\"ARR_DELAY_NEW\"].fillna(0, inplace = True)\n",
    "flights_total_ATL[\"ARR_DEL15\"].fillna(0, inplace = True)\n",
    "flights_total_ATL[\"ACTUAL_ELAPSED_TIME\"].fillna(0, inplace = True)\n",
    "flights_total_ATL[\"AIR_TIME\"].fillna(0, inplace = True)\n",
    "flights_total_ATL[\"Kar\"].fillna(0, inplace = True)\n",
    "flights_total_ATL[\"5Dk_max_rüzgar\"].fillna(0, inplace = True)"
   ]
  },
  {
   "cell_type": "code",
   "execution_count": 19,
   "metadata": {},
   "outputs": [
    {
     "output_type": "execute_result",
     "data": {
      "text/plain": [
       "YEAR                   0\n",
       "MONTH                  0\n",
       "DAY_OF_MONTH           0\n",
       "DAY_OF_WEEK            0\n",
       "OP_CARRIER             0\n",
       "DEST                   0\n",
       "DEP_TIME               0\n",
       "DEP_DELAY_NEW          0\n",
       "DEP_DEL15              0\n",
       "TAXI_OUT               0\n",
       "WHEELS_OFF             0\n",
       "WHEELS_ON              0\n",
       "TAXI_IN                0\n",
       "ARR_TIME               0\n",
       "ARR_DELAY_NEW          0\n",
       "ARR_DEL15              0\n",
       "CANCELLED              0\n",
       "ACTUAL_ELAPSED_TIME    0\n",
       "AIR_TIME               0\n",
       "DISTANCE               0\n",
       "ELEVATION              0\n",
       "Ort_Rüzgar             0\n",
       "Kar                    0\n",
       "Ort_Sýcaklýk           0\n",
       "TMAX                   0\n",
       "TMIN                   0\n",
       "2Dk_max_rüzgar         0\n",
       "5Dk_max_rüzgar         0\n",
       "dtype: int64"
      ]
     },
     "metadata": {},
     "execution_count": 19
    }
   ],
   "source": [
    "flights_total_ATL.isnull().sum()"
   ]
  },
  {
   "cell_type": "code",
   "execution_count": 20,
   "metadata": {},
   "outputs": [
    {
     "output_type": "stream",
     "name": "stdout",
     "text": [
      "cancelled class of 1 and 0:\n 0.0    392603\n1.0      2406\nName: CANCELLED, dtype: int64\n"
     ]
    },
    {
     "output_type": "display_data",
     "data": {
      "text/plain": "<Figure size 432x288 with 1 Axes>",
      "image/svg+xml": "<?xml version=\"1.0\" encoding=\"utf-8\" standalone=\"no\"?>\r\n<!DOCTYPE svg PUBLIC \"-//W3C//DTD SVG 1.1//EN\"\r\n  \"http://www.w3.org/Graphics/SVG/1.1/DTD/svg11.dtd\">\r\n<svg height=\"269.86125pt\" version=\"1.1\" viewBox=\"0 0 394.375 269.86125\" width=\"394.375pt\" xmlns=\"http://www.w3.org/2000/svg\" xmlns:xlink=\"http://www.w3.org/1999/xlink\">\r\n <metadata>\r\n  <rdf:RDF xmlns:cc=\"http://creativecommons.org/ns#\" xmlns:dc=\"http://purl.org/dc/elements/1.1/\" xmlns:rdf=\"http://www.w3.org/1999/02/22-rdf-syntax-ns#\">\r\n   <cc:Work>\r\n    <dc:type rdf:resource=\"http://purl.org/dc/dcmitype/StillImage\"/>\r\n    <dc:date>2021-05-02T00:53:54.080901</dc:date>\r\n    <dc:format>image/svg+xml</dc:format>\r\n    <dc:creator>\r\n     <cc:Agent>\r\n      <dc:title>Matplotlib v3.4.1, https://matplotlib.org/</dc:title>\r\n     </cc:Agent>\r\n    </dc:creator>\r\n   </cc:Work>\r\n  </rdf:RDF>\r\n </metadata>\r\n <defs>\r\n  <style type=\"text/css\">*{stroke-linecap:butt;stroke-linejoin:round;}</style>\r\n </defs>\r\n <g id=\"figure_1\">\r\n  <g id=\"patch_1\">\r\n   <path d=\"M 0 269.86125 \r\nL 394.375 269.86125 \r\nL 394.375 0 \r\nL 0 0 \r\nz\r\n\" style=\"fill:none;\"/>\r\n  </g>\r\n  <g id=\"axes_1\">\r\n   <g id=\"patch_2\">\r\n    <path d=\"M 52.375 239.758125 \r\nL 387.175 239.758125 \r\nL 387.175 22.318125 \r\nL 52.375 22.318125 \r\nz\r\n\" style=\"fill:#ffffff;\"/>\r\n   </g>\r\n   <g id=\"patch_3\">\r\n    <path clip-path=\"url(#pec8e66faa2)\" d=\"M 94.225 239.758125 \r\nL 177.925 239.758125 \r\nL 177.925 32.672411 \r\nL 94.225 32.672411 \r\nz\r\n\" style=\"fill:#1f77b4;\"/>\r\n   </g>\r\n   <g id=\"patch_4\">\r\n    <path clip-path=\"url(#pec8e66faa2)\" d=\"M 261.625 239.758125 \r\nL 345.325 239.758125 \r\nL 345.325 238.489036 \r\nL 261.625 238.489036 \r\nz\r\n\" style=\"fill:#1f77b4;\"/>\r\n   </g>\r\n   <g id=\"matplotlib.axis_1\">\r\n    <g id=\"xtick_1\">\r\n     <g id=\"line2d_1\">\r\n      <defs>\r\n       <path d=\"M 0 0 \r\nL 0 3.5 \r\n\" id=\"mf64f1815bb\" style=\"stroke:#000000;stroke-width:0.8;\"/>\r\n      </defs>\r\n      <g>\r\n       <use style=\"stroke:#000000;stroke-width:0.8;\" x=\"136.075\" xlink:href=\"#mf64f1815bb\" y=\"239.758125\"/>\r\n      </g>\r\n     </g>\r\n     <g id=\"text_1\">\r\n      <!-- 0.0 -->\r\n      <g transform=\"translate(138.834375 262.66125)rotate(-90)scale(0.1 -0.1)\">\r\n       <defs>\r\n        <path d=\"M 2034 4250 \r\nQ 1547 4250 1301 3770 \r\nQ 1056 3291 1056 2328 \r\nQ 1056 1369 1301 889 \r\nQ 1547 409 2034 409 \r\nQ 2525 409 2770 889 \r\nQ 3016 1369 3016 2328 \r\nQ 3016 3291 2770 3770 \r\nQ 2525 4250 2034 4250 \r\nz\r\nM 2034 4750 \r\nQ 2819 4750 3233 4129 \r\nQ 3647 3509 3647 2328 \r\nQ 3647 1150 3233 529 \r\nQ 2819 -91 2034 -91 \r\nQ 1250 -91 836 529 \r\nQ 422 1150 422 2328 \r\nQ 422 3509 836 4129 \r\nQ 1250 4750 2034 4750 \r\nz\r\n\" id=\"DejaVuSans-30\" transform=\"scale(0.015625)\"/>\r\n        <path d=\"M 684 794 \r\nL 1344 794 \r\nL 1344 0 \r\nL 684 0 \r\nL 684 794 \r\nz\r\n\" id=\"DejaVuSans-2e\" transform=\"scale(0.015625)\"/>\r\n       </defs>\r\n       <use xlink:href=\"#DejaVuSans-30\"/>\r\n       <use x=\"63.623047\" xlink:href=\"#DejaVuSans-2e\"/>\r\n       <use x=\"95.410156\" xlink:href=\"#DejaVuSans-30\"/>\r\n      </g>\r\n     </g>\r\n    </g>\r\n    <g id=\"xtick_2\">\r\n     <g id=\"line2d_2\">\r\n      <g>\r\n       <use style=\"stroke:#000000;stroke-width:0.8;\" x=\"303.475\" xlink:href=\"#mf64f1815bb\" y=\"239.758125\"/>\r\n      </g>\r\n     </g>\r\n     <g id=\"text_2\">\r\n      <!-- 1.0 -->\r\n      <g transform=\"translate(306.234375 262.66125)rotate(-90)scale(0.1 -0.1)\">\r\n       <defs>\r\n        <path d=\"M 794 531 \r\nL 1825 531 \r\nL 1825 4091 \r\nL 703 3866 \r\nL 703 4441 \r\nL 1819 4666 \r\nL 2450 4666 \r\nL 2450 531 \r\nL 3481 531 \r\nL 3481 0 \r\nL 794 0 \r\nL 794 531 \r\nz\r\n\" id=\"DejaVuSans-31\" transform=\"scale(0.015625)\"/>\r\n       </defs>\r\n       <use xlink:href=\"#DejaVuSans-31\"/>\r\n       <use x=\"63.623047\" xlink:href=\"#DejaVuSans-2e\"/>\r\n       <use x=\"95.410156\" xlink:href=\"#DejaVuSans-30\"/>\r\n      </g>\r\n     </g>\r\n    </g>\r\n   </g>\r\n   <g id=\"matplotlib.axis_2\">\r\n    <g id=\"ytick_1\">\r\n     <g id=\"line2d_3\">\r\n      <defs>\r\n       <path d=\"M 0 0 \r\nL -3.5 0 \r\n\" id=\"me46f17149c\" style=\"stroke:#000000;stroke-width:0.8;\"/>\r\n      </defs>\r\n      <g>\r\n       <use style=\"stroke:#000000;stroke-width:0.8;\" x=\"52.375\" xlink:href=\"#me46f17149c\" y=\"239.758125\"/>\r\n      </g>\r\n     </g>\r\n     <g id=\"text_3\">\r\n      <!-- 0 -->\r\n      <g transform=\"translate(39.0125 243.557344)scale(0.1 -0.1)\">\r\n       <use xlink:href=\"#DejaVuSans-30\"/>\r\n      </g>\r\n     </g>\r\n    </g>\r\n    <g id=\"ytick_2\">\r\n     <g id=\"line2d_4\">\r\n      <g>\r\n       <use style=\"stroke:#000000;stroke-width:0.8;\" x=\"52.375\" xlink:href=\"#me46f17149c\" y=\"213.3847\"/>\r\n      </g>\r\n     </g>\r\n     <g id=\"text_4\">\r\n      <!-- 50000 -->\r\n      <g transform=\"translate(13.5625 217.183919)scale(0.1 -0.1)\">\r\n       <defs>\r\n        <path d=\"M 691 4666 \r\nL 3169 4666 \r\nL 3169 4134 \r\nL 1269 4134 \r\nL 1269 2991 \r\nQ 1406 3038 1543 3061 \r\nQ 1681 3084 1819 3084 \r\nQ 2600 3084 3056 2656 \r\nQ 3513 2228 3513 1497 \r\nQ 3513 744 3044 326 \r\nQ 2575 -91 1722 -91 \r\nQ 1428 -91 1123 -41 \r\nQ 819 9 494 109 \r\nL 494 744 \r\nQ 775 591 1075 516 \r\nQ 1375 441 1709 441 \r\nQ 2250 441 2565 725 \r\nQ 2881 1009 2881 1497 \r\nQ 2881 1984 2565 2268 \r\nQ 2250 2553 1709 2553 \r\nQ 1456 2553 1204 2497 \r\nQ 953 2441 691 2322 \r\nL 691 4666 \r\nz\r\n\" id=\"DejaVuSans-35\" transform=\"scale(0.015625)\"/>\r\n       </defs>\r\n       <use xlink:href=\"#DejaVuSans-35\"/>\r\n       <use x=\"63.623047\" xlink:href=\"#DejaVuSans-30\"/>\r\n       <use x=\"127.246094\" xlink:href=\"#DejaVuSans-30\"/>\r\n       <use x=\"190.869141\" xlink:href=\"#DejaVuSans-30\"/>\r\n       <use x=\"254.492188\" xlink:href=\"#DejaVuSans-30\"/>\r\n      </g>\r\n     </g>\r\n    </g>\r\n    <g id=\"ytick_3\">\r\n     <g id=\"line2d_5\">\r\n      <g>\r\n       <use style=\"stroke:#000000;stroke-width:0.8;\" x=\"52.375\" xlink:href=\"#me46f17149c\" y=\"187.011275\"/>\r\n      </g>\r\n     </g>\r\n     <g id=\"text_5\">\r\n      <!-- 100000 -->\r\n      <g transform=\"translate(7.2 190.810494)scale(0.1 -0.1)\">\r\n       <use xlink:href=\"#DejaVuSans-31\"/>\r\n       <use x=\"63.623047\" xlink:href=\"#DejaVuSans-30\"/>\r\n       <use x=\"127.246094\" xlink:href=\"#DejaVuSans-30\"/>\r\n       <use x=\"190.869141\" xlink:href=\"#DejaVuSans-30\"/>\r\n       <use x=\"254.492188\" xlink:href=\"#DejaVuSans-30\"/>\r\n       <use x=\"318.115234\" xlink:href=\"#DejaVuSans-30\"/>\r\n      </g>\r\n     </g>\r\n    </g>\r\n    <g id=\"ytick_4\">\r\n     <g id=\"line2d_6\">\r\n      <g>\r\n       <use style=\"stroke:#000000;stroke-width:0.8;\" x=\"52.375\" xlink:href=\"#me46f17149c\" y=\"160.63785\"/>\r\n      </g>\r\n     </g>\r\n     <g id=\"text_6\">\r\n      <!-- 150000 -->\r\n      <g transform=\"translate(7.2 164.437069)scale(0.1 -0.1)\">\r\n       <use xlink:href=\"#DejaVuSans-31\"/>\r\n       <use x=\"63.623047\" xlink:href=\"#DejaVuSans-35\"/>\r\n       <use x=\"127.246094\" xlink:href=\"#DejaVuSans-30\"/>\r\n       <use x=\"190.869141\" xlink:href=\"#DejaVuSans-30\"/>\r\n       <use x=\"254.492188\" xlink:href=\"#DejaVuSans-30\"/>\r\n       <use x=\"318.115234\" xlink:href=\"#DejaVuSans-30\"/>\r\n      </g>\r\n     </g>\r\n    </g>\r\n    <g id=\"ytick_5\">\r\n     <g id=\"line2d_7\">\r\n      <g>\r\n       <use style=\"stroke:#000000;stroke-width:0.8;\" x=\"52.375\" xlink:href=\"#me46f17149c\" y=\"134.264426\"/>\r\n      </g>\r\n     </g>\r\n     <g id=\"text_7\">\r\n      <!-- 200000 -->\r\n      <g transform=\"translate(7.2 138.063644)scale(0.1 -0.1)\">\r\n       <defs>\r\n        <path d=\"M 1228 531 \r\nL 3431 531 \r\nL 3431 0 \r\nL 469 0 \r\nL 469 531 \r\nQ 828 903 1448 1529 \r\nQ 2069 2156 2228 2338 \r\nQ 2531 2678 2651 2914 \r\nQ 2772 3150 2772 3378 \r\nQ 2772 3750 2511 3984 \r\nQ 2250 4219 1831 4219 \r\nQ 1534 4219 1204 4116 \r\nQ 875 4013 500 3803 \r\nL 500 4441 \r\nQ 881 4594 1212 4672 \r\nQ 1544 4750 1819 4750 \r\nQ 2544 4750 2975 4387 \r\nQ 3406 4025 3406 3419 \r\nQ 3406 3131 3298 2873 \r\nQ 3191 2616 2906 2266 \r\nQ 2828 2175 2409 1742 \r\nQ 1991 1309 1228 531 \r\nz\r\n\" id=\"DejaVuSans-32\" transform=\"scale(0.015625)\"/>\r\n       </defs>\r\n       <use xlink:href=\"#DejaVuSans-32\"/>\r\n       <use x=\"63.623047\" xlink:href=\"#DejaVuSans-30\"/>\r\n       <use x=\"127.246094\" xlink:href=\"#DejaVuSans-30\"/>\r\n       <use x=\"190.869141\" xlink:href=\"#DejaVuSans-30\"/>\r\n       <use x=\"254.492188\" xlink:href=\"#DejaVuSans-30\"/>\r\n       <use x=\"318.115234\" xlink:href=\"#DejaVuSans-30\"/>\r\n      </g>\r\n     </g>\r\n    </g>\r\n    <g id=\"ytick_6\">\r\n     <g id=\"line2d_8\">\r\n      <g>\r\n       <use style=\"stroke:#000000;stroke-width:0.8;\" x=\"52.375\" xlink:href=\"#me46f17149c\" y=\"107.891001\"/>\r\n      </g>\r\n     </g>\r\n     <g id=\"text_8\">\r\n      <!-- 250000 -->\r\n      <g transform=\"translate(7.2 111.69022)scale(0.1 -0.1)\">\r\n       <use xlink:href=\"#DejaVuSans-32\"/>\r\n       <use x=\"63.623047\" xlink:href=\"#DejaVuSans-35\"/>\r\n       <use x=\"127.246094\" xlink:href=\"#DejaVuSans-30\"/>\r\n       <use x=\"190.869141\" xlink:href=\"#DejaVuSans-30\"/>\r\n       <use x=\"254.492188\" xlink:href=\"#DejaVuSans-30\"/>\r\n       <use x=\"318.115234\" xlink:href=\"#DejaVuSans-30\"/>\r\n      </g>\r\n     </g>\r\n    </g>\r\n    <g id=\"ytick_7\">\r\n     <g id=\"line2d_9\">\r\n      <g>\r\n       <use style=\"stroke:#000000;stroke-width:0.8;\" x=\"52.375\" xlink:href=\"#me46f17149c\" y=\"81.517576\"/>\r\n      </g>\r\n     </g>\r\n     <g id=\"text_9\">\r\n      <!-- 300000 -->\r\n      <g transform=\"translate(7.2 85.316795)scale(0.1 -0.1)\">\r\n       <defs>\r\n        <path d=\"M 2597 2516 \r\nQ 3050 2419 3304 2112 \r\nQ 3559 1806 3559 1356 \r\nQ 3559 666 3084 287 \r\nQ 2609 -91 1734 -91 \r\nQ 1441 -91 1130 -33 \r\nQ 819 25 488 141 \r\nL 488 750 \r\nQ 750 597 1062 519 \r\nQ 1375 441 1716 441 \r\nQ 2309 441 2620 675 \r\nQ 2931 909 2931 1356 \r\nQ 2931 1769 2642 2001 \r\nQ 2353 2234 1838 2234 \r\nL 1294 2234 \r\nL 1294 2753 \r\nL 1863 2753 \r\nQ 2328 2753 2575 2939 \r\nQ 2822 3125 2822 3475 \r\nQ 2822 3834 2567 4026 \r\nQ 2313 4219 1838 4219 \r\nQ 1578 4219 1281 4162 \r\nQ 984 4106 628 3988 \r\nL 628 4550 \r\nQ 988 4650 1302 4700 \r\nQ 1616 4750 1894 4750 \r\nQ 2613 4750 3031 4423 \r\nQ 3450 4097 3450 3541 \r\nQ 3450 3153 3228 2886 \r\nQ 3006 2619 2597 2516 \r\nz\r\n\" id=\"DejaVuSans-33\" transform=\"scale(0.015625)\"/>\r\n       </defs>\r\n       <use xlink:href=\"#DejaVuSans-33\"/>\r\n       <use x=\"63.623047\" xlink:href=\"#DejaVuSans-30\"/>\r\n       <use x=\"127.246094\" xlink:href=\"#DejaVuSans-30\"/>\r\n       <use x=\"190.869141\" xlink:href=\"#DejaVuSans-30\"/>\r\n       <use x=\"254.492188\" xlink:href=\"#DejaVuSans-30\"/>\r\n       <use x=\"318.115234\" xlink:href=\"#DejaVuSans-30\"/>\r\n      </g>\r\n     </g>\r\n    </g>\r\n    <g id=\"ytick_8\">\r\n     <g id=\"line2d_10\">\r\n      <g>\r\n       <use style=\"stroke:#000000;stroke-width:0.8;\" x=\"52.375\" xlink:href=\"#me46f17149c\" y=\"55.144151\"/>\r\n      </g>\r\n     </g>\r\n     <g id=\"text_10\">\r\n      <!-- 350000 -->\r\n      <g transform=\"translate(7.2 58.94337)scale(0.1 -0.1)\">\r\n       <use xlink:href=\"#DejaVuSans-33\"/>\r\n       <use x=\"63.623047\" xlink:href=\"#DejaVuSans-35\"/>\r\n       <use x=\"127.246094\" xlink:href=\"#DejaVuSans-30\"/>\r\n       <use x=\"190.869141\" xlink:href=\"#DejaVuSans-30\"/>\r\n       <use x=\"254.492188\" xlink:href=\"#DejaVuSans-30\"/>\r\n       <use x=\"318.115234\" xlink:href=\"#DejaVuSans-30\"/>\r\n      </g>\r\n     </g>\r\n    </g>\r\n    <g id=\"ytick_9\">\r\n     <g id=\"line2d_11\">\r\n      <g>\r\n       <use style=\"stroke:#000000;stroke-width:0.8;\" x=\"52.375\" xlink:href=\"#me46f17149c\" y=\"28.770726\"/>\r\n      </g>\r\n     </g>\r\n     <g id=\"text_11\">\r\n      <!-- 400000 -->\r\n      <g transform=\"translate(7.2 32.569945)scale(0.1 -0.1)\">\r\n       <defs>\r\n        <path d=\"M 2419 4116 \r\nL 825 1625 \r\nL 2419 1625 \r\nL 2419 4116 \r\nz\r\nM 2253 4666 \r\nL 3047 4666 \r\nL 3047 1625 \r\nL 3713 1625 \r\nL 3713 1100 \r\nL 3047 1100 \r\nL 3047 0 \r\nL 2419 0 \r\nL 2419 1100 \r\nL 313 1100 \r\nL 313 1709 \r\nL 2253 4666 \r\nz\r\n\" id=\"DejaVuSans-34\" transform=\"scale(0.015625)\"/>\r\n       </defs>\r\n       <use xlink:href=\"#DejaVuSans-34\"/>\r\n       <use x=\"63.623047\" xlink:href=\"#DejaVuSans-30\"/>\r\n       <use x=\"127.246094\" xlink:href=\"#DejaVuSans-30\"/>\r\n       <use x=\"190.869141\" xlink:href=\"#DejaVuSans-30\"/>\r\n       <use x=\"254.492188\" xlink:href=\"#DejaVuSans-30\"/>\r\n       <use x=\"318.115234\" xlink:href=\"#DejaVuSans-30\"/>\r\n      </g>\r\n     </g>\r\n    </g>\r\n   </g>\r\n   <g id=\"patch_5\">\r\n    <path d=\"M 52.375 239.758125 \r\nL 52.375 22.318125 \r\n\" style=\"fill:none;stroke:#000000;stroke-linecap:square;stroke-linejoin:miter;stroke-width:0.8;\"/>\r\n   </g>\r\n   <g id=\"patch_6\">\r\n    <path d=\"M 387.175 239.758125 \r\nL 387.175 22.318125 \r\n\" style=\"fill:none;stroke:#000000;stroke-linecap:square;stroke-linejoin:miter;stroke-width:0.8;\"/>\r\n   </g>\r\n   <g id=\"patch_7\">\r\n    <path d=\"M 52.375 239.758125 \r\nL 387.175 239.758125 \r\n\" style=\"fill:none;stroke:#000000;stroke-linecap:square;stroke-linejoin:miter;stroke-width:0.8;\"/>\r\n   </g>\r\n   <g id=\"patch_8\">\r\n    <path d=\"M 52.375 22.318125 \r\nL 387.175 22.318125 \r\n\" style=\"fill:none;stroke:#000000;stroke-linecap:square;stroke-linejoin:miter;stroke-width:0.8;\"/>\r\n   </g>\r\n   <g id=\"text_12\">\r\n    <!-- count (CANCELLED Class) -->\r\n    <g transform=\"translate(142.705938 16.318125)scale(0.12 -0.12)\">\r\n     <defs>\r\n      <path d=\"M 3122 3366 \r\nL 3122 2828 \r\nQ 2878 2963 2633 3030 \r\nQ 2388 3097 2138 3097 \r\nQ 1578 3097 1268 2742 \r\nQ 959 2388 959 1747 \r\nQ 959 1106 1268 751 \r\nQ 1578 397 2138 397 \r\nQ 2388 397 2633 464 \r\nQ 2878 531 3122 666 \r\nL 3122 134 \r\nQ 2881 22 2623 -34 \r\nQ 2366 -91 2075 -91 \r\nQ 1284 -91 818 406 \r\nQ 353 903 353 1747 \r\nQ 353 2603 823 3093 \r\nQ 1294 3584 2113 3584 \r\nQ 2378 3584 2631 3529 \r\nQ 2884 3475 3122 3366 \r\nz\r\n\" id=\"DejaVuSans-63\" transform=\"scale(0.015625)\"/>\r\n      <path d=\"M 1959 3097 \r\nQ 1497 3097 1228 2736 \r\nQ 959 2375 959 1747 \r\nQ 959 1119 1226 758 \r\nQ 1494 397 1959 397 \r\nQ 2419 397 2687 759 \r\nQ 2956 1122 2956 1747 \r\nQ 2956 2369 2687 2733 \r\nQ 2419 3097 1959 3097 \r\nz\r\nM 1959 3584 \r\nQ 2709 3584 3137 3096 \r\nQ 3566 2609 3566 1747 \r\nQ 3566 888 3137 398 \r\nQ 2709 -91 1959 -91 \r\nQ 1206 -91 779 398 \r\nQ 353 888 353 1747 \r\nQ 353 2609 779 3096 \r\nQ 1206 3584 1959 3584 \r\nz\r\n\" id=\"DejaVuSans-6f\" transform=\"scale(0.015625)\"/>\r\n      <path d=\"M 544 1381 \r\nL 544 3500 \r\nL 1119 3500 \r\nL 1119 1403 \r\nQ 1119 906 1312 657 \r\nQ 1506 409 1894 409 \r\nQ 2359 409 2629 706 \r\nQ 2900 1003 2900 1516 \r\nL 2900 3500 \r\nL 3475 3500 \r\nL 3475 0 \r\nL 2900 0 \r\nL 2900 538 \r\nQ 2691 219 2414 64 \r\nQ 2138 -91 1772 -91 \r\nQ 1169 -91 856 284 \r\nQ 544 659 544 1381 \r\nz\r\nM 1991 3584 \r\nL 1991 3584 \r\nz\r\n\" id=\"DejaVuSans-75\" transform=\"scale(0.015625)\"/>\r\n      <path d=\"M 3513 2113 \r\nL 3513 0 \r\nL 2938 0 \r\nL 2938 2094 \r\nQ 2938 2591 2744 2837 \r\nQ 2550 3084 2163 3084 \r\nQ 1697 3084 1428 2787 \r\nQ 1159 2491 1159 1978 \r\nL 1159 0 \r\nL 581 0 \r\nL 581 3500 \r\nL 1159 3500 \r\nL 1159 2956 \r\nQ 1366 3272 1645 3428 \r\nQ 1925 3584 2291 3584 \r\nQ 2894 3584 3203 3211 \r\nQ 3513 2838 3513 2113 \r\nz\r\n\" id=\"DejaVuSans-6e\" transform=\"scale(0.015625)\"/>\r\n      <path d=\"M 1172 4494 \r\nL 1172 3500 \r\nL 2356 3500 \r\nL 2356 3053 \r\nL 1172 3053 \r\nL 1172 1153 \r\nQ 1172 725 1289 603 \r\nQ 1406 481 1766 481 \r\nL 2356 481 \r\nL 2356 0 \r\nL 1766 0 \r\nQ 1100 0 847 248 \r\nQ 594 497 594 1153 \r\nL 594 3053 \r\nL 172 3053 \r\nL 172 3500 \r\nL 594 3500 \r\nL 594 4494 \r\nL 1172 4494 \r\nz\r\n\" id=\"DejaVuSans-74\" transform=\"scale(0.015625)\"/>\r\n      <path id=\"DejaVuSans-20\" transform=\"scale(0.015625)\"/>\r\n      <path d=\"M 1984 4856 \r\nQ 1566 4138 1362 3434 \r\nQ 1159 2731 1159 2009 \r\nQ 1159 1288 1364 580 \r\nQ 1569 -128 1984 -844 \r\nL 1484 -844 \r\nQ 1016 -109 783 600 \r\nQ 550 1309 550 2009 \r\nQ 550 2706 781 3412 \r\nQ 1013 4119 1484 4856 \r\nL 1984 4856 \r\nz\r\n\" id=\"DejaVuSans-28\" transform=\"scale(0.015625)\"/>\r\n      <path d=\"M 4122 4306 \r\nL 4122 3641 \r\nQ 3803 3938 3442 4084 \r\nQ 3081 4231 2675 4231 \r\nQ 1875 4231 1450 3742 \r\nQ 1025 3253 1025 2328 \r\nQ 1025 1406 1450 917 \r\nQ 1875 428 2675 428 \r\nQ 3081 428 3442 575 \r\nQ 3803 722 4122 1019 \r\nL 4122 359 \r\nQ 3791 134 3420 21 \r\nQ 3050 -91 2638 -91 \r\nQ 1578 -91 968 557 \r\nQ 359 1206 359 2328 \r\nQ 359 3453 968 4101 \r\nQ 1578 4750 2638 4750 \r\nQ 3056 4750 3426 4639 \r\nQ 3797 4528 4122 4306 \r\nz\r\n\" id=\"DejaVuSans-43\" transform=\"scale(0.015625)\"/>\r\n      <path d=\"M 2188 4044 \r\nL 1331 1722 \r\nL 3047 1722 \r\nL 2188 4044 \r\nz\r\nM 1831 4666 \r\nL 2547 4666 \r\nL 4325 0 \r\nL 3669 0 \r\nL 3244 1197 \r\nL 1141 1197 \r\nL 716 0 \r\nL 50 0 \r\nL 1831 4666 \r\nz\r\n\" id=\"DejaVuSans-41\" transform=\"scale(0.015625)\"/>\r\n      <path d=\"M 628 4666 \r\nL 1478 4666 \r\nL 3547 763 \r\nL 3547 4666 \r\nL 4159 4666 \r\nL 4159 0 \r\nL 3309 0 \r\nL 1241 3903 \r\nL 1241 0 \r\nL 628 0 \r\nL 628 4666 \r\nz\r\n\" id=\"DejaVuSans-4e\" transform=\"scale(0.015625)\"/>\r\n      <path d=\"M 628 4666 \r\nL 3578 4666 \r\nL 3578 4134 \r\nL 1259 4134 \r\nL 1259 2753 \r\nL 3481 2753 \r\nL 3481 2222 \r\nL 1259 2222 \r\nL 1259 531 \r\nL 3634 531 \r\nL 3634 0 \r\nL 628 0 \r\nL 628 4666 \r\nz\r\n\" id=\"DejaVuSans-45\" transform=\"scale(0.015625)\"/>\r\n      <path d=\"M 628 4666 \r\nL 1259 4666 \r\nL 1259 531 \r\nL 3531 531 \r\nL 3531 0 \r\nL 628 0 \r\nL 628 4666 \r\nz\r\n\" id=\"DejaVuSans-4c\" transform=\"scale(0.015625)\"/>\r\n      <path d=\"M 1259 4147 \r\nL 1259 519 \r\nL 2022 519 \r\nQ 2988 519 3436 956 \r\nQ 3884 1394 3884 2338 \r\nQ 3884 3275 3436 3711 \r\nQ 2988 4147 2022 4147 \r\nL 1259 4147 \r\nz\r\nM 628 4666 \r\nL 1925 4666 \r\nQ 3281 4666 3915 4102 \r\nQ 4550 3538 4550 2338 \r\nQ 4550 1131 3912 565 \r\nQ 3275 0 1925 0 \r\nL 628 0 \r\nL 628 4666 \r\nz\r\n\" id=\"DejaVuSans-44\" transform=\"scale(0.015625)\"/>\r\n      <path d=\"M 603 4863 \r\nL 1178 4863 \r\nL 1178 0 \r\nL 603 0 \r\nL 603 4863 \r\nz\r\n\" id=\"DejaVuSans-6c\" transform=\"scale(0.015625)\"/>\r\n      <path d=\"M 2194 1759 \r\nQ 1497 1759 1228 1600 \r\nQ 959 1441 959 1056 \r\nQ 959 750 1161 570 \r\nQ 1363 391 1709 391 \r\nQ 2188 391 2477 730 \r\nQ 2766 1069 2766 1631 \r\nL 2766 1759 \r\nL 2194 1759 \r\nz\r\nM 3341 1997 \r\nL 3341 0 \r\nL 2766 0 \r\nL 2766 531 \r\nQ 2569 213 2275 61 \r\nQ 1981 -91 1556 -91 \r\nQ 1019 -91 701 211 \r\nQ 384 513 384 1019 \r\nQ 384 1609 779 1909 \r\nQ 1175 2209 1959 2209 \r\nL 2766 2209 \r\nL 2766 2266 \r\nQ 2766 2663 2505 2880 \r\nQ 2244 3097 1772 3097 \r\nQ 1472 3097 1187 3025 \r\nQ 903 2953 641 2809 \r\nL 641 3341 \r\nQ 956 3463 1253 3523 \r\nQ 1550 3584 1831 3584 \r\nQ 2591 3584 2966 3190 \r\nQ 3341 2797 3341 1997 \r\nz\r\n\" id=\"DejaVuSans-61\" transform=\"scale(0.015625)\"/>\r\n      <path d=\"M 2834 3397 \r\nL 2834 2853 \r\nQ 2591 2978 2328 3040 \r\nQ 2066 3103 1784 3103 \r\nQ 1356 3103 1142 2972 \r\nQ 928 2841 928 2578 \r\nQ 928 2378 1081 2264 \r\nQ 1234 2150 1697 2047 \r\nL 1894 2003 \r\nQ 2506 1872 2764 1633 \r\nQ 3022 1394 3022 966 \r\nQ 3022 478 2636 193 \r\nQ 2250 -91 1575 -91 \r\nQ 1294 -91 989 -36 \r\nQ 684 19 347 128 \r\nL 347 722 \r\nQ 666 556 975 473 \r\nQ 1284 391 1588 391 \r\nQ 1994 391 2212 530 \r\nQ 2431 669 2431 922 \r\nQ 2431 1156 2273 1281 \r\nQ 2116 1406 1581 1522 \r\nL 1381 1569 \r\nQ 847 1681 609 1914 \r\nQ 372 2147 372 2553 \r\nQ 372 3047 722 3315 \r\nQ 1072 3584 1716 3584 \r\nQ 2034 3584 2315 3537 \r\nQ 2597 3491 2834 3397 \r\nz\r\n\" id=\"DejaVuSans-73\" transform=\"scale(0.015625)\"/>\r\n      <path d=\"M 513 4856 \r\nL 1013 4856 \r\nQ 1481 4119 1714 3412 \r\nQ 1947 2706 1947 2009 \r\nQ 1947 1309 1714 600 \r\nQ 1481 -109 1013 -844 \r\nL 513 -844 \r\nQ 928 -128 1133 580 \r\nQ 1338 1288 1338 2009 \r\nQ 1338 2731 1133 3434 \r\nQ 928 4138 513 4856 \r\nz\r\n\" id=\"DejaVuSans-29\" transform=\"scale(0.015625)\"/>\r\n     </defs>\r\n     <use xlink:href=\"#DejaVuSans-63\"/>\r\n     <use x=\"54.980469\" xlink:href=\"#DejaVuSans-6f\"/>\r\n     <use x=\"116.162109\" xlink:href=\"#DejaVuSans-75\"/>\r\n     <use x=\"179.541016\" xlink:href=\"#DejaVuSans-6e\"/>\r\n     <use x=\"242.919922\" xlink:href=\"#DejaVuSans-74\"/>\r\n     <use x=\"282.128906\" xlink:href=\"#DejaVuSans-20\"/>\r\n     <use x=\"313.916016\" xlink:href=\"#DejaVuSans-28\"/>\r\n     <use x=\"352.929688\" xlink:href=\"#DejaVuSans-43\"/>\r\n     <use x=\"422.753906\" xlink:href=\"#DejaVuSans-41\"/>\r\n     <use x=\"491.162109\" xlink:href=\"#DejaVuSans-4e\"/>\r\n     <use x=\"565.966797\" xlink:href=\"#DejaVuSans-43\"/>\r\n     <use x=\"635.791016\" xlink:href=\"#DejaVuSans-45\"/>\r\n     <use x=\"698.974609\" xlink:href=\"#DejaVuSans-4c\"/>\r\n     <use x=\"754.6875\" xlink:href=\"#DejaVuSans-4c\"/>\r\n     <use x=\"810.400391\" xlink:href=\"#DejaVuSans-45\"/>\r\n     <use x=\"873.583984\" xlink:href=\"#DejaVuSans-44\"/>\r\n     <use x=\"950.585938\" xlink:href=\"#DejaVuSans-20\"/>\r\n     <use x=\"982.373047\" xlink:href=\"#DejaVuSans-43\"/>\r\n     <use x=\"1052.197266\" xlink:href=\"#DejaVuSans-6c\"/>\r\n     <use x=\"1079.980469\" xlink:href=\"#DejaVuSans-61\"/>\r\n     <use x=\"1141.259766\" xlink:href=\"#DejaVuSans-73\"/>\r\n     <use x=\"1193.359375\" xlink:href=\"#DejaVuSans-73\"/>\r\n     <use x=\"1245.458984\" xlink:href=\"#DejaVuSans-29\"/>\r\n    </g>\r\n   </g>\r\n  </g>\r\n </g>\r\n <defs>\r\n  <clipPath id=\"pec8e66faa2\">\r\n   <rect height=\"217.44\" width=\"334.8\" x=\"52.375\" y=\"22.318125\"/>\r\n  </clipPath>\r\n </defs>\r\n</svg>\r\n",
      "image/png": "[encoded data removed]"
     },
     "metadata": {
      "needs_background": "light"
     }
    }
   ],
   "source": [
    "print(\"cancelled class of 1 and 0:\\n\",flights_total_ATL['CANCELLED'].value_counts())# plot the count after under-sampeling\n",
    "flights_total_ATL['CANCELLED'].value_counts().plot(kind='bar', title='count (CANCELLED Class)');"
   ]
  },
  {
   "cell_type": "code",
   "execution_count": 21,
   "metadata": {},
   "outputs": [
    {
     "output_type": "execute_result",
     "data": {
      "text/plain": [
       "(395009, 28)"
      ]
     },
     "metadata": {},
     "execution_count": 21
    }
   ],
   "source": [
    "flights_total_ATL.shape"
   ]
  },
  {
   "cell_type": "code",
   "execution_count": 22,
   "metadata": {},
   "outputs": [
    {
     "output_type": "execute_result",
     "data": {
      "text/plain": [
       "YEAR                     int64\n",
       "MONTH                    int64\n",
       "DAY_OF_MONTH             int64\n",
       "DAY_OF_WEEK              int64\n",
       "OP_CARRIER              object\n",
       "DEST                    object\n",
       "DEP_TIME               float64\n",
       "DEP_DELAY_NEW          float64\n",
       "DEP_DEL15              float64\n",
       "TAXI_OUT               float64\n",
       "WHEELS_OFF             float64\n",
       "WHEELS_ON              float64\n",
       "TAXI_IN                float64\n",
       "ARR_TIME               float64\n",
       "ARR_DELAY_NEW          float64\n",
       "ARR_DEL15              float64\n",
       "CANCELLED              float64\n",
       "ACTUAL_ELAPSED_TIME    float64\n",
       "AIR_TIME               float64\n",
       "DISTANCE               float64\n",
       "ELEVATION              float64\n",
       "Ort_Rüzgar             float64\n",
       "Kar                    float64\n",
       "Ort_Sýcaklýk             int64\n",
       "TMAX                     int64\n",
       "TMIN                     int64\n",
       "2Dk_max_rüzgar         float64\n",
       "5Dk_max_rüzgar         float64\n",
       "dtype: object"
      ]
     },
     "metadata": {},
     "execution_count": 22
    }
   ],
   "source": [
    "flights_total_ATL.dtypes"
   ]
  },
  {
   "cell_type": "code",
   "execution_count": 23,
   "metadata": {},
   "outputs": [
    {
     "output_type": "execute_result",
     "data": {
      "text/plain": [
       "   YEAR  MONTH  DAY_OF_MONTH  DAY_OF_WEEK OP_CARRIER DEST  DEP_TIME  \\\n",
       "0  2019      1             5            6         9E  SGF     956.0   \n",
       "1  2019      1             5            6         9E  CHA    1446.0   \n",
       "2  2019      1             5            6         9E  LFT    1000.0   \n",
       "3  2019      1             5            6         NK  BWI     655.0   \n",
       "4  2019      1             5            6         NK  BWI    1846.0   \n",
       "\n",
       "   DEP_DELAY_NEW  DEP_DEL15  TAXI_OUT  WHEELS_OFF  WHEELS_ON  TAXI_IN  \\\n",
       "0            6.0        0.0      20.0      1016.0     1040.0      3.0   \n",
       "1            0.0        0.0      11.0      1457.0     1522.0      4.0   \n",
       "2            0.0        0.0      13.0      1013.0     1026.0      6.0   \n",
       "3            0.0        0.0      12.0       707.0      826.0      8.0   \n",
       "4            0.0        0.0      10.0      1856.0     2021.0      7.0   \n",
       "\n",
       "   ARR_TIME  ARR_DELAY_NEW  ARR_DEL15  CANCELLED  ACTUAL_ELAPSED_TIME  \\\n",
       "0    1043.0            0.0        0.0        0.0                107.0   \n",
       "1    1526.0            0.0        0.0        0.0                 40.0   \n",
       "2    1032.0            0.0        0.0        0.0                 92.0   \n",
       "3     834.0            0.0        0.0        0.0                 99.0   \n",
       "4    2028.0            0.0        0.0        0.0                102.0   \n",
       "\n",
       "   AIR_TIME  DISTANCE  ELEVATION  Ort_Rüzgar  Kar  Ort_Sýcaklýk  TMAX  TMIN  \\\n",
       "0      84.0     563.0      307.8       13.42  0.0            49    59    44   \n",
       "1      25.0     106.0      307.8       13.42  0.0            49    59    44   \n",
       "2      73.0     503.0      307.8       13.42  0.0            49    59    44   \n",
       "3      79.0     577.0      307.8       13.42  0.0            49    59    44   \n",
       "4      85.0     577.0      307.8       13.42  0.0            49    59    44   \n",
       "\n",
       "   2Dk_max_rüzgar  5Dk_max_rüzgar  \n",
       "0            23.9            33.1  \n",
       "1            23.9            33.1  \n",
       "2            23.9            33.1  \n",
       "3            23.9            33.1  \n",
       "4            23.9            33.1  "
      ],
      "text/html": "<div>\n<style scoped>\n    .dataframe tbody tr th:only-of-type {\n        vertical-align: middle;\n    }\n\n    .dataframe tbody tr th {\n        vertical-align: top;\n    }\n\n    .dataframe thead th {\n        text-align: right;\n    }\n</style>\n<table border=\"1\" class=\"dataframe\">\n  <thead>\n    <tr style=\"text-align: right;\">\n      <th></th>\n      <th>YEAR</th>\n      <th>MONTH</th>\n      <th>DAY_OF_MONTH</th>\n      <th>DAY_OF_WEEK</th>\n      <th>OP_CARRIER</th>\n      <th>DEST</th>\n      <th>DEP_TIME</th>\n      <th>DEP_DELAY_NEW</th>\n      <th>DEP_DEL15</th>\n      <th>TAXI_OUT</th>\n      <th>WHEELS_OFF</th>\n      <th>WHEELS_ON</th>\n      <th>TAXI_IN</th>\n      <th>ARR_TIME</th>\n      <th>ARR_DELAY_NEW</th>\n      <th>ARR_DEL15</th>\n      <th>CANCELLED</th>\n      <th>ACTUAL_ELAPSED_TIME</th>\n      <th>AIR_TIME</th>\n      <th>DISTANCE</th>\n      <th>ELEVATION</th>\n      <th>Ort_Rüzgar</th>\n      <th>Kar</th>\n      <th>Ort_Sýcaklýk</th>\n      <th>TMAX</th>\n      <th>TMIN</th>\n      <th>2Dk_max_rüzgar</th>\n      <th>5Dk_max_rüzgar</th>\n    </tr>\n  </thead>\n  <tbody>\n    <tr>\n      <th>0</th>\n      <td>2019</td>\n      <td>1</td>\n      <td>5</td>\n      <td>6</td>\n      <td>9E</td>\n      <td>SGF</td>\n      <td>956.0</td>\n      <td>6.0</td>\n      <td>0.0</td>\n      <td>20.0</td>\n      <td>1016.0</td>\n      <td>1040.0</td>\n      <td>3.0</td>\n      <td>1043.0</td>\n      <td>0.0</td>\n      <td>0.0</td>\n      <td>0.0</td>\n      <td>107.0</td>\n      <td>84.0</td>\n      <td>563.0</td>\n      <td>307.8</td>\n      <td>13.42</td>\n      <td>0.0</td>\n      <td>49</td>\n      <td>59</td>\n      <td>44</td>\n      <td>23.9</td>\n      <td>33.1</td>\n    </tr>\n    <tr>\n      <th>1</th>\n      <td>2019</td>\n      <td>1</td>\n      <td>5</td>\n      <td>6</td>\n      <td>9E</td>\n      <td>CHA</td>\n      <td>1446.0</td>\n      <td>0.0</td>\n      <td>0.0</td>\n      <td>11.0</td>\n      <td>1457.0</td>\n      <td>1522.0</td>\n      <td>4.0</td>\n      <td>1526.0</td>\n      <td>0.0</td>\n      <td>0.0</td>\n      <td>0.0</td>\n      <td>40.0</td>\n      <td>25.0</td>\n      <td>106.0</td>\n      <td>307.8</td>\n      <td>13.42</td>\n      <td>0.0</td>\n      <td>49</td>\n      <td>59</td>\n      <td>44</td>\n      <td>23.9</td>\n      <td>33.1</td>\n    </tr>\n    <tr>\n      <th>2</th>\n      <td>2019</td>\n      <td>1</td>\n      <td>5</td>\n      <td>6</td>\n      <td>9E</td>\n      <td>LFT</td>\n      <td>1000.0</td>\n      <td>0.0</td>\n      <td>0.0</td>\n      <td>13.0</td>\n      <td>1013.0</td>\n      <td>1026.0</td>\n      <td>6.0</td>\n      <td>1032.0</td>\n      <td>0.0</td>\n      <td>0.0</td>\n      <td>0.0</td>\n      <td>92.0</td>\n      <td>73.0</td>\n      <td>503.0</td>\n      <td>307.8</td>\n      <td>13.42</td>\n      <td>0.0</td>\n      <td>49</td>\n      <td>59</td>\n      <td>44</td>\n      <td>23.9</td>\n      <td>33.1</td>\n    </tr>\n    <tr>\n      <th>3</th>\n      <td>2019</td>\n      <td>1</td>\n      <td>5</td>\n      <td>6</td>\n      <td>NK</td>\n      <td>BWI</td>\n      <td>655.0</td>\n      <td>0.0</td>\n      <td>0.0</td>\n      <td>12.0</td>\n      <td>707.0</td>\n      <td>826.0</td>\n      <td>8.0</td>\n      <td>834.0</td>\n      <td>0.0</td>\n      <td>0.0</td>\n      <td>0.0</td>\n      <td>99.0</td>\n      <td>79.0</td>\n      <td>577.0</td>\n      <td>307.8</td>\n      <td>13.42</td>\n      <td>0.0</td>\n      <td>49</td>\n      <td>59</td>\n      <td>44</td>\n      <td>23.9</td>\n      <td>33.1</td>\n    </tr>\n    <tr>\n      <th>4</th>\n      <td>2019</td>\n      <td>1</td>\n      <td>5</td>\n      <td>6</td>\n      <td>NK</td>\n      <td>BWI</td>\n      <td>1846.0</td>\n      <td>0.0</td>\n      <td>0.0</td>\n      <td>10.0</td>\n      <td>1856.0</td>\n      <td>2021.0</td>\n      <td>7.0</td>\n      <td>2028.0</td>\n      <td>0.0</td>\n      <td>0.0</td>\n      <td>0.0</td>\n      <td>102.0</td>\n      <td>85.0</td>\n      <td>577.0</td>\n      <td>307.8</td>\n      <td>13.42</td>\n      <td>0.0</td>\n      <td>49</td>\n      <td>59</td>\n      <td>44</td>\n      <td>23.9</td>\n      <td>33.1</td>\n    </tr>\n  </tbody>\n</table>\n</div>"
     },
     "metadata": {},
     "execution_count": 23
    }
   ],
   "source": [
    "flights_total_ATL.head()"
   ]
  },
  {
   "cell_type": "code",
   "execution_count": 24,
   "metadata": {},
   "outputs": [],
   "source": [
    "flights_total_ATL['WHEELS_ON'] = flights_total_ATL['WHEELS_ON'].astype(int)\n",
    "flights_total_ATL['WHEELS_OFF'] = flights_total_ATL['WHEELS_OFF'].astype(int)\n",
    "flights_total_ATL['DEP_TIME'] = flights_total_ATL['DEP_TIME'].astype(int)\n",
    "flights_total_ATL['ARR_TIME'] = flights_total_ATL['ARR_TIME'].astype(int)\n",
    "flights_total_ATL['DEP_DELAY_NEW'] = flights_total_ATL['DEP_DELAY_NEW'].astype(int)\n",
    "flights_total_ATL['DEP_DEL15'] = flights_total_ATL['DEP_DEL15'].astype(int)\n",
    "flights_total_ATL['TAXI_OUT'] = flights_total_ATL['TAXI_OUT'].astype(int)\n",
    "flights_total_ATL['TAXI_IN'] = flights_total_ATL['TAXI_IN'].astype(int)\n",
    "flights_total_ATL['ARR_DELAY_NEW'] = flights_total_ATL['ARR_DELAY_NEW'].astype(int)\n",
    "flights_total_ATL['ARR_DEL15'] = flights_total_ATL['ARR_DEL15'].astype(int)\n",
    "flights_total_ATL['CANCELLED'] = flights_total_ATL['CANCELLED'].astype(int)\n",
    "flights_total_ATL['AIR_TIME'] = flights_total_ATL['AIR_TIME'].astype(int)\n",
    "flights_total_ATL['DISTANCE'] = flights_total_ATL['DISTANCE'].astype(int)\n",
    "flights_total_ATL['ACTUAL_ELAPSED_TIME'] = flights_total_ATL['ACTUAL_ELAPSED_TIME'].astype(int)"
   ]
  },
  {
   "cell_type": "code",
   "execution_count": 25,
   "metadata": {},
   "outputs": [
    {
     "output_type": "execute_result",
     "data": {
      "text/plain": [
       "YEAR                     int64\n",
       "MONTH                    int64\n",
       "DAY_OF_MONTH             int64\n",
       "DAY_OF_WEEK              int64\n",
       "OP_CARRIER              object\n",
       "DEST                    object\n",
       "DEP_TIME                 int32\n",
       "DEP_DELAY_NEW            int32\n",
       "DEP_DEL15                int32\n",
       "TAXI_OUT                 int32\n",
       "WHEELS_OFF               int32\n",
       "WHEELS_ON                int32\n",
       "TAXI_IN                  int32\n",
       "ARR_TIME                 int32\n",
       "ARR_DELAY_NEW            int32\n",
       "ARR_DEL15                int32\n",
       "CANCELLED                int32\n",
       "ACTUAL_ELAPSED_TIME      int32\n",
       "AIR_TIME                 int32\n",
       "DISTANCE                 int32\n",
       "ELEVATION              float64\n",
       "Ort_Rüzgar             float64\n",
       "Kar                    float64\n",
       "Ort_Sýcaklýk             int64\n",
       "TMAX                     int64\n",
       "TMIN                     int64\n",
       "2Dk_max_rüzgar         float64\n",
       "5Dk_max_rüzgar         float64\n",
       "dtype: object"
      ]
     },
     "metadata": {},
     "execution_count": 25
    }
   ],
   "source": [
    "flights_total_ATL.dtypes"
   ]
  },
  {
   "cell_type": "code",
   "execution_count": 26,
   "metadata": {},
   "outputs": [],
   "source": [
    "def Format_Hourmin(hours):\n",
    "        if hours == 2400:\n",
    "            hours = 0\n",
    "        else:\n",
    "            hours = \"{0:04d}\".format(int(hours))\n",
    "            Hourmin = datetime.time(int(hours[0:2]), int(hours[2:4]))\n",
    "            return Hourmin"
   ]
  },
  {
   "cell_type": "code",
   "execution_count": 27,
   "metadata": {},
   "outputs": [],
   "source": [
    "flights_total_ATL['WHEELS_ON'] = flights_total_ATL['WHEELS_ON'].apply(Format_Hourmin)\n",
    "flights_total_ATL['WHEELS_OFF'] = flights_total_ATL['WHEELS_OFF'].apply(Format_Hourmin)\n",
    "flights_total_ATL['DEP_TIME'] = flights_total_ATL['DEP_TIME'].apply(Format_Hourmin)\n",
    "flights_total_ATL['ARR_TIME'] = flights_total_ATL['ARR_TIME'].apply(Format_Hourmin)"
   ]
  },
  {
   "cell_type": "code",
   "execution_count": 28,
   "metadata": {},
   "outputs": [
    {
     "output_type": "execute_result",
     "data": {
      "text/plain": [
       "YEAR                     int64\n",
       "MONTH                    int64\n",
       "DAY_OF_MONTH             int64\n",
       "DAY_OF_WEEK              int64\n",
       "OP_CARRIER              object\n",
       "DEST                    object\n",
       "DEP_TIME                object\n",
       "DEP_DELAY_NEW            int32\n",
       "DEP_DEL15                int32\n",
       "TAXI_OUT                 int32\n",
       "WHEELS_OFF              object\n",
       "WHEELS_ON               object\n",
       "TAXI_IN                  int32\n",
       "ARR_TIME                object\n",
       "ARR_DELAY_NEW            int32\n",
       "ARR_DEL15                int32\n",
       "CANCELLED                int32\n",
       "ACTUAL_ELAPSED_TIME      int32\n",
       "AIR_TIME                 int32\n",
       "DISTANCE                 int32\n",
       "ELEVATION              float64\n",
       "Ort_Rüzgar             float64\n",
       "Kar                    float64\n",
       "Ort_Sýcaklýk             int64\n",
       "TMAX                     int64\n",
       "TMIN                     int64\n",
       "2Dk_max_rüzgar         float64\n",
       "5Dk_max_rüzgar         float64\n",
       "dtype: object"
      ]
     },
     "metadata": {},
     "execution_count": 28
    }
   ],
   "source": [
    "flights_total_ATL.dtypes"
   ]
  },
  {
   "cell_type": "code",
   "execution_count": 29,
   "metadata": {},
   "outputs": [
    {
     "output_type": "execute_result",
     "data": {
      "text/plain": [
       "   YEAR  MONTH  DAY_OF_MONTH  DAY_OF_WEEK OP_CARRIER DEST  DEP_TIME  \\\n",
       "0  2019      1             5            6         9E  SGF  09:56:00   \n",
       "1  2019      1             5            6         9E  CHA  14:46:00   \n",
       "2  2019      1             5            6         9E  LFT  10:00:00   \n",
       "3  2019      1             5            6         NK  BWI  06:55:00   \n",
       "4  2019      1             5            6         NK  BWI  18:46:00   \n",
       "\n",
       "   DEP_DELAY_NEW  DEP_DEL15  TAXI_OUT WHEELS_OFF WHEELS_ON  TAXI_IN  ARR_TIME  \\\n",
       "0              6          0        20   10:16:00  10:40:00        3  10:43:00   \n",
       "1              0          0        11   14:57:00  15:22:00        4  15:26:00   \n",
       "2              0          0        13   10:13:00  10:26:00        6  10:32:00   \n",
       "3              0          0        12   07:07:00  08:26:00        8  08:34:00   \n",
       "4              0          0        10   18:56:00  20:21:00        7  20:28:00   \n",
       "\n",
       "   ARR_DELAY_NEW  ARR_DEL15  CANCELLED  ACTUAL_ELAPSED_TIME  AIR_TIME  \\\n",
       "0              0          0          0                  107        84   \n",
       "1              0          0          0                   40        25   \n",
       "2              0          0          0                   92        73   \n",
       "3              0          0          0                   99        79   \n",
       "4              0          0          0                  102        85   \n",
       "\n",
       "   DISTANCE  ELEVATION  Ort_Rüzgar  Kar  Ort_Sýcaklýk  TMAX  TMIN  \\\n",
       "0       563      307.8       13.42  0.0            49    59    44   \n",
       "1       106      307.8       13.42  0.0            49    59    44   \n",
       "2       503      307.8       13.42  0.0            49    59    44   \n",
       "3       577      307.8       13.42  0.0            49    59    44   \n",
       "4       577      307.8       13.42  0.0            49    59    44   \n",
       "\n",
       "   2Dk_max_rüzgar  5Dk_max_rüzgar  \n",
       "0            23.9            33.1  \n",
       "1            23.9            33.1  \n",
       "2            23.9            33.1  \n",
       "3            23.9            33.1  \n",
       "4            23.9            33.1  "
      ],
      "text/html": "<div>\n<style scoped>\n    .dataframe tbody tr th:only-of-type {\n        vertical-align: middle;\n    }\n\n    .dataframe tbody tr th {\n        vertical-align: top;\n    }\n\n    .dataframe thead th {\n        text-align: right;\n    }\n</style>\n<table border=\"1\" class=\"dataframe\">\n  <thead>\n    <tr style=\"text-align: right;\">\n      <th></th>\n      <th>YEAR</th>\n      <th>MONTH</th>\n      <th>DAY_OF_MONTH</th>\n      <th>DAY_OF_WEEK</th>\n      <th>OP_CARRIER</th>\n      <th>DEST</th>\n      <th>DEP_TIME</th>\n      <th>DEP_DELAY_NEW</th>\n      <th>DEP_DEL15</th>\n      <th>TAXI_OUT</th>\n      <th>WHEELS_OFF</th>\n      <th>WHEELS_ON</th>\n      <th>TAXI_IN</th>\n      <th>ARR_TIME</th>\n      <th>ARR_DELAY_NEW</th>\n      <th>ARR_DEL15</th>\n      <th>CANCELLED</th>\n      <th>ACTUAL_ELAPSED_TIME</th>\n      <th>AIR_TIME</th>\n      <th>DISTANCE</th>\n      <th>ELEVATION</th>\n      <th>Ort_Rüzgar</th>\n      <th>Kar</th>\n      <th>Ort_Sýcaklýk</th>\n      <th>TMAX</th>\n      <th>TMIN</th>\n      <th>2Dk_max_rüzgar</th>\n      <th>5Dk_max_rüzgar</th>\n    </tr>\n  </thead>\n  <tbody>\n    <tr>\n      <th>0</th>\n      <td>2019</td>\n      <td>1</td>\n      <td>5</td>\n      <td>6</td>\n      <td>9E</td>\n      <td>SGF</td>\n      <td>09:56:00</td>\n      <td>6</td>\n      <td>0</td>\n      <td>20</td>\n      <td>10:16:00</td>\n      <td>10:40:00</td>\n      <td>3</td>\n      <td>10:43:00</td>\n      <td>0</td>\n      <td>0</td>\n      <td>0</td>\n      <td>107</td>\n      <td>84</td>\n      <td>563</td>\n      <td>307.8</td>\n      <td>13.42</td>\n      <td>0.0</td>\n      <td>49</td>\n      <td>59</td>\n      <td>44</td>\n      <td>23.9</td>\n      <td>33.1</td>\n    </tr>\n    <tr>\n      <th>1</th>\n      <td>2019</td>\n      <td>1</td>\n      <td>5</td>\n      <td>6</td>\n      <td>9E</td>\n      <td>CHA</td>\n      <td>14:46:00</td>\n      <td>0</td>\n      <td>0</td>\n      <td>11</td>\n      <td>14:57:00</td>\n      <td>15:22:00</td>\n      <td>4</td>\n      <td>15:26:00</td>\n      <td>0</td>\n      <td>0</td>\n      <td>0</td>\n      <td>40</td>\n      <td>25</td>\n      <td>106</td>\n      <td>307.8</td>\n      <td>13.42</td>\n      <td>0.0</td>\n      <td>49</td>\n      <td>59</td>\n      <td>44</td>\n      <td>23.9</td>\n      <td>33.1</td>\n    </tr>\n    <tr>\n      <th>2</th>\n      <td>2019</td>\n      <td>1</td>\n      <td>5</td>\n      <td>6</td>\n      <td>9E</td>\n      <td>LFT</td>\n      <td>10:00:00</td>\n      <td>0</td>\n      <td>0</td>\n      <td>13</td>\n      <td>10:13:00</td>\n      <td>10:26:00</td>\n      <td>6</td>\n      <td>10:32:00</td>\n      <td>0</td>\n      <td>0</td>\n      <td>0</td>\n      <td>92</td>\n      <td>73</td>\n      <td>503</td>\n      <td>307.8</td>\n      <td>13.42</td>\n      <td>0.0</td>\n      <td>49</td>\n      <td>59</td>\n      <td>44</td>\n      <td>23.9</td>\n      <td>33.1</td>\n    </tr>\n    <tr>\n      <th>3</th>\n      <td>2019</td>\n      <td>1</td>\n      <td>5</td>\n      <td>6</td>\n      <td>NK</td>\n      <td>BWI</td>\n      <td>06:55:00</td>\n      <td>0</td>\n      <td>0</td>\n      <td>12</td>\n      <td>07:07:00</td>\n      <td>08:26:00</td>\n      <td>8</td>\n      <td>08:34:00</td>\n      <td>0</td>\n      <td>0</td>\n      <td>0</td>\n      <td>99</td>\n      <td>79</td>\n      <td>577</td>\n      <td>307.8</td>\n      <td>13.42</td>\n      <td>0.0</td>\n      <td>49</td>\n      <td>59</td>\n      <td>44</td>\n      <td>23.9</td>\n      <td>33.1</td>\n    </tr>\n    <tr>\n      <th>4</th>\n      <td>2019</td>\n      <td>1</td>\n      <td>5</td>\n      <td>6</td>\n      <td>NK</td>\n      <td>BWI</td>\n      <td>18:46:00</td>\n      <td>0</td>\n      <td>0</td>\n      <td>10</td>\n      <td>18:56:00</td>\n      <td>20:21:00</td>\n      <td>7</td>\n      <td>20:28:00</td>\n      <td>0</td>\n      <td>0</td>\n      <td>0</td>\n      <td>102</td>\n      <td>85</td>\n      <td>577</td>\n      <td>307.8</td>\n      <td>13.42</td>\n      <td>0.0</td>\n      <td>49</td>\n      <td>59</td>\n      <td>44</td>\n      <td>23.9</td>\n      <td>33.1</td>\n    </tr>\n  </tbody>\n</table>\n</div>"
     },
     "metadata": {},
     "execution_count": 29
    }
   ],
   "source": [
    "flights_total_ATL.head()"
   ]
  },
  {
   "cell_type": "code",
   "execution_count": 30,
   "metadata": {},
   "outputs": [],
   "source": [
    "flights_total_ATL = flights_total_ATL.drop(['DEP_TIME', 'DEP_DELAY_NEW', 'DEP_DEL15', 'TAXI_OUT', 'WHEELS_OFF', 'WHEELS_ON',\n",
    "                                            'TAXI_IN', 'ARR_TIME', 'ARR_DELAY_NEW', 'ARR_DEL15', 'ARR_DEL15',                                                                   'ACTUAL_ELAPSED_TIME','AIR_TIME'], axis=1)"
   ]
  },
  {
   "cell_type": "code",
   "execution_count": 31,
   "metadata": {},
   "outputs": [
    {
     "output_type": "execute_result",
     "data": {
      "text/plain": [
       "   YEAR  MONTH  DAY_OF_MONTH  DAY_OF_WEEK OP_CARRIER DEST  CANCELLED  \\\n",
       "0  2019      1             5            6         9E  SGF          0   \n",
       "1  2019      1             5            6         9E  CHA          0   \n",
       "2  2019      1             5            6         9E  LFT          0   \n",
       "3  2019      1             5            6         NK  BWI          0   \n",
       "4  2019      1             5            6         NK  BWI          0   \n",
       "\n",
       "   DISTANCE  ELEVATION  Ort_Rüzgar  Kar  Ort_Sýcaklýk  TMAX  TMIN  \\\n",
       "0       563      307.8       13.42  0.0            49    59    44   \n",
       "1       106      307.8       13.42  0.0            49    59    44   \n",
       "2       503      307.8       13.42  0.0            49    59    44   \n",
       "3       577      307.8       13.42  0.0            49    59    44   \n",
       "4       577      307.8       13.42  0.0            49    59    44   \n",
       "\n",
       "   2Dk_max_rüzgar  5Dk_max_rüzgar  \n",
       "0            23.9            33.1  \n",
       "1            23.9            33.1  \n",
       "2            23.9            33.1  \n",
       "3            23.9            33.1  \n",
       "4            23.9            33.1  "
      ],
      "text/html": "<div>\n<style scoped>\n    .dataframe tbody tr th:only-of-type {\n        vertical-align: middle;\n    }\n\n    .dataframe tbody tr th {\n        vertical-align: top;\n    }\n\n    .dataframe thead th {\n        text-align: right;\n    }\n</style>\n<table border=\"1\" class=\"dataframe\">\n  <thead>\n    <tr style=\"text-align: right;\">\n      <th></th>\n      <th>YEAR</th>\n      <th>MONTH</th>\n      <th>DAY_OF_MONTH</th>\n      <th>DAY_OF_WEEK</th>\n      <th>OP_CARRIER</th>\n      <th>DEST</th>\n      <th>CANCELLED</th>\n      <th>DISTANCE</th>\n      <th>ELEVATION</th>\n      <th>Ort_Rüzgar</th>\n      <th>Kar</th>\n      <th>Ort_Sýcaklýk</th>\n      <th>TMAX</th>\n      <th>TMIN</th>\n      <th>2Dk_max_rüzgar</th>\n      <th>5Dk_max_rüzgar</th>\n    </tr>\n  </thead>\n  <tbody>\n    <tr>\n      <th>0</th>\n      <td>2019</td>\n      <td>1</td>\n      <td>5</td>\n      <td>6</td>\n      <td>9E</td>\n      <td>SGF</td>\n      <td>0</td>\n      <td>563</td>\n      <td>307.8</td>\n      <td>13.42</td>\n      <td>0.0</td>\n      <td>49</td>\n      <td>59</td>\n      <td>44</td>\n      <td>23.9</td>\n      <td>33.1</td>\n    </tr>\n    <tr>\n      <th>1</th>\n      <td>2019</td>\n      <td>1</td>\n      <td>5</td>\n      <td>6</td>\n      <td>9E</td>\n      <td>CHA</td>\n      <td>0</td>\n      <td>106</td>\n      <td>307.8</td>\n      <td>13.42</td>\n      <td>0.0</td>\n      <td>49</td>\n      <td>59</td>\n      <td>44</td>\n      <td>23.9</td>\n      <td>33.1</td>\n    </tr>\n    <tr>\n      <th>2</th>\n      <td>2019</td>\n      <td>1</td>\n      <td>5</td>\n      <td>6</td>\n      <td>9E</td>\n      <td>LFT</td>\n      <td>0</td>\n      <td>503</td>\n      <td>307.8</td>\n      <td>13.42</td>\n      <td>0.0</td>\n      <td>49</td>\n      <td>59</td>\n      <td>44</td>\n      <td>23.9</td>\n      <td>33.1</td>\n    </tr>\n    <tr>\n      <th>3</th>\n      <td>2019</td>\n      <td>1</td>\n      <td>5</td>\n      <td>6</td>\n      <td>NK</td>\n      <td>BWI</td>\n      <td>0</td>\n      <td>577</td>\n      <td>307.8</td>\n      <td>13.42</td>\n      <td>0.0</td>\n      <td>49</td>\n      <td>59</td>\n      <td>44</td>\n      <td>23.9</td>\n      <td>33.1</td>\n    </tr>\n    <tr>\n      <th>4</th>\n      <td>2019</td>\n      <td>1</td>\n      <td>5</td>\n      <td>6</td>\n      <td>NK</td>\n      <td>BWI</td>\n      <td>0</td>\n      <td>577</td>\n      <td>307.8</td>\n      <td>13.42</td>\n      <td>0.0</td>\n      <td>49</td>\n      <td>59</td>\n      <td>44</td>\n      <td>23.9</td>\n      <td>33.1</td>\n    </tr>\n  </tbody>\n</table>\n</div>"
     },
     "metadata": {},
     "execution_count": 31
    }
   ],
   "source": [
    "flights_total_ATL.head()"
   ]
  },
  {
   "cell_type": "code",
   "execution_count": 32,
   "metadata": {},
   "outputs": [
    {
     "output_type": "execute_result",
     "data": {
      "text/plain": [
       "YEAR                int64\n",
       "MONTH               int64\n",
       "DAY_OF_MONTH        int64\n",
       "DAY_OF_WEEK         int64\n",
       "OP_CARRIER         object\n",
       "DEST               object\n",
       "CANCELLED           int32\n",
       "DISTANCE            int32\n",
       "ELEVATION         float64\n",
       "Ort_Rüzgar        float64\n",
       "Kar               float64\n",
       "Ort_Sýcaklýk        int64\n",
       "TMAX                int64\n",
       "TMIN                int64\n",
       "2Dk_max_rüzgar    float64\n",
       "5Dk_max_rüzgar    float64\n",
       "dtype: object"
      ]
     },
     "metadata": {},
     "execution_count": 32
    }
   ],
   "source": [
    "flights_total_ATL.dtypes"
   ]
  },
  {
   "cell_type": "code",
   "execution_count": 33,
   "metadata": {},
   "outputs": [],
   "source": [
    "flights_total_ATL_dummies = pd.get_dummies(flights_total_ATL)"
   ]
  },
  {
   "cell_type": "code",
   "execution_count": 34,
   "metadata": {},
   "outputs": [
    {
     "output_type": "execute_result",
     "data": {
      "text/plain": [
       "   YEAR  MONTH  DAY_OF_MONTH  DAY_OF_WEEK  CANCELLED  DISTANCE  ELEVATION  \\\n",
       "0  2019      1             5            6          0       563      307.8   \n",
       "1  2019      1             5            6          0       106      307.8   \n",
       "2  2019      1             5            6          0       503      307.8   \n",
       "3  2019      1             5            6          0       577      307.8   \n",
       "4  2019      1             5            6          0       577      307.8   \n",
       "\n",
       "   Ort_Rüzgar  Kar  Ort_Sýcaklýk  TMAX  TMIN  2Dk_max_rüzgar  5Dk_max_rüzgar  \\\n",
       "0       13.42  0.0            49    59    44            23.9            33.1   \n",
       "1       13.42  0.0            49    59    44            23.9            33.1   \n",
       "2       13.42  0.0            49    59    44            23.9            33.1   \n",
       "3       13.42  0.0            49    59    44            23.9            33.1   \n",
       "4       13.42  0.0            49    59    44            23.9            33.1   \n",
       "\n",
       "   OP_CARRIER_9E  OP_CARRIER_AA  OP_CARRIER_AS  OP_CARRIER_B6  OP_CARRIER_DL  \\\n",
       "0              1              0              0              0              0   \n",
       "1              1              0              0              0              0   \n",
       "2              1              0              0              0              0   \n",
       "3              0              0              0              0              0   \n",
       "4              0              0              0              0              0   \n",
       "\n",
       "   OP_CARRIER_EV  OP_CARRIER_F9  OP_CARRIER_MQ  OP_CARRIER_NK  OP_CARRIER_OH  \\\n",
       "0              0              0              0              0              0   \n",
       "1              0              0              0              0              0   \n",
       "2              0              0              0              0              0   \n",
       "3              0              0              0              1              0   \n",
       "4              0              0              0              1              0   \n",
       "\n",
       "   OP_CARRIER_OO  OP_CARRIER_UA  OP_CARRIER_WN  OP_CARRIER_YV  OP_CARRIER_YX  \\\n",
       "0              0              0              0              0              0   \n",
       "1              0              0              0              0              0   \n",
       "2              0              0              0              0              0   \n",
       "3              0              0              0              0              0   \n",
       "4              0              0              0              0              0   \n",
       "\n",
       "   DEST_ABE  DEST_ABQ  DEST_ABY  DEST_ACY  DEST_AEX  DEST_AGS  DEST_ALB  \\\n",
       "0         0         0         0         0         0         0         0   \n",
       "1         0         0         0         0         0         0         0   \n",
       "2         0         0         0         0         0         0         0   \n",
       "3         0         0         0         0         0         0         0   \n",
       "4         0         0         0         0         0         0         0   \n",
       "\n",
       "   DEST_ANC  DEST_ASE  DEST_ATW  DEST_AUS  DEST_AVL  DEST_AVP  DEST_BDL  \\\n",
       "0         0         0         0         0         0         0         0   \n",
       "1         0         0         0         0         0         0         0   \n",
       "2         0         0         0         0         0         0         0   \n",
       "3         0         0         0         0         0         0         0   \n",
       "4         0         0         0         0         0         0         0   \n",
       "\n",
       "   DEST_BHM  DEST_BMI  DEST_BNA  DEST_BOS  DEST_BQK  DEST_BTR  DEST_BTV  \\\n",
       "0         0         0         0         0         0         0         0   \n",
       "1         0         0         0         0         0         0         0   \n",
       "2         0         0         0         0         0         0         0   \n",
       "3         0         0         0         0         0         0         0   \n",
       "4         0         0         0         0         0         0         0   \n",
       "\n",
       "   DEST_BUF  DEST_BUR  DEST_BWI  DEST_BZN  DEST_CAE  DEST_CAK  DEST_CHA  \\\n",
       "0         0         0         0         0         0         0         0   \n",
       "1         0         0         0         0         0         0         1   \n",
       "2         0         0         0         0         0         0         0   \n",
       "3         0         0         1         0         0         0         0   \n",
       "4         0         0         1         0         0         0         0   \n",
       "\n",
       "   DEST_CHO  DEST_CHS  DEST_CID  DEST_CLE  DEST_CLT  DEST_CMH  DEST_COS  \\\n",
       "0         0         0         0         0         0         0         0   \n",
       "1         0         0         0         0         0         0         0   \n",
       "2         0         0         0         0         0         0         0   \n",
       "3         0         0         0         0         0         0         0   \n",
       "4         0         0         0         0         0         0         0   \n",
       "\n",
       "   DEST_CRW  DEST_CSG  DEST_CVG  DEST_DAB  DEST_DAL  DEST_DAY  DEST_DCA  \\\n",
       "0         0         0         0         0         0         0         0   \n",
       "1         0         0         0         0         0         0         0   \n",
       "2         0         0         0         0         0         0         0   \n",
       "3         0         0         0         0         0         0         0   \n",
       "4         0         0         0         0         0         0         0   \n",
       "\n",
       "   DEST_DEN  DEST_DFW  DEST_DHN  DEST_DSM  DEST_DTW  DEST_ECP  DEST_EGE  \\\n",
       "0         0         0         0         0         0         0         0   \n",
       "1         0         0         0         0         0         0         0   \n",
       "2         0         0         0         0         0         0         0   \n",
       "3         0         0         0         0         0         0         0   \n",
       "4         0         0         0         0         0         0         0   \n",
       "\n",
       "   DEST_ELM  DEST_ELP  DEST_EVV  DEST_EWN  DEST_EWR  DEST_EYW  DEST_FAR  \\\n",
       "0         0         0         0         0         0         0         0   \n",
       "1         0         0         0         0         0         0         0   \n",
       "2         0         0         0         0         0         0         0   \n",
       "3         0         0         0         0         0         0         0   \n",
       "4         0         0         0         0         0         0         0   \n",
       "\n",
       "   DEST_FAY  DEST_FCA  DEST_FLL  DEST_FNT  DEST_FSD  DEST_FSM  DEST_FWA  \\\n",
       "0         0         0         0         0         0         0         0   \n",
       "1         0         0         0         0         0         0         0   \n",
       "2         0         0         0         0         0         0         0   \n",
       "3         0         0         0         0         0         0         0   \n",
       "4         0         0         0         0         0         0         0   \n",
       "\n",
       "   DEST_GNV  DEST_GPT  DEST_GRB  DEST_GRR  DEST_GSO  DEST_GSP  DEST_GTR  \\\n",
       "0         0         0         0         0         0         0         0   \n",
       "1         0         0         0         0         0         0         0   \n",
       "2         0         0         0         0         0         0         0   \n",
       "3         0         0         0         0         0         0         0   \n",
       "4         0         0         0         0         0         0         0   \n",
       "\n",
       "   DEST_HDN  DEST_HHH  DEST_HNL  DEST_HOU  DEST_HPN  DEST_HSV  DEST_IAD  \\\n",
       "0         0         0         0         0         0         0         0   \n",
       "1         0         0         0         0         0         0         0   \n",
       "2         0         0         0         0         0         0         0   \n",
       "3         0         0         0         0         0         0         0   \n",
       "4         0         0         0         0         0         0         0   \n",
       "\n",
       "   DEST_IAH  DEST_ICT  DEST_ILM  DEST_IND  DEST_ISP  DEST_JAC  DEST_JAN  \\\n",
       "0         0         0         0         0         0         0         0   \n",
       "1         0         0         0         0         0         0         0   \n",
       "2         0         0         0         0         0         0         0   \n",
       "3         0         0         0         0         0         0         0   \n",
       "4         0         0         0         0         0         0         0   \n",
       "\n",
       "   DEST_JAX  DEST_JFK  DEST_LAS  DEST_LAX  DEST_LEX  DEST_LFT  DEST_LGA  \\\n",
       "0         0         0         0         0         0         0         0   \n",
       "1         0         0         0         0         0         0         0   \n",
       "2         0         0         0         0         0         1         0   \n",
       "3         0         0         0         0         0         0         0   \n",
       "4         0         0         0         0         0         0         0   \n",
       "\n",
       "   DEST_LIT  DEST_LNK  DEST_MCI  DEST_MCO  DEST_MDT  DEST_MDW  DEST_MEM  \\\n",
       "0         0         0         0         0         0         0         0   \n",
       "1         0         0         0         0         0         0         0   \n",
       "2         0         0         0         0         0         0         0   \n",
       "3         0         0         0         0         0         0         0   \n",
       "4         0         0         0         0         0         0         0   \n",
       "\n",
       "   DEST_MGM  DEST_MHT  DEST_MIA  DEST_MKE  DEST_MLB  DEST_MLI  DEST_MLU  \\\n",
       "0         0         0         0         0         0         0         0   \n",
       "1         0         0         0         0         0         0         0   \n",
       "2         0         0         0         0         0         0         0   \n",
       "3         0         0         0         0         0         0         0   \n",
       "4         0         0         0         0         0         0         0   \n",
       "\n",
       "   DEST_MOB  DEST_MSN  DEST_MSO  DEST_MSP  DEST_MSY  DEST_MTJ  DEST_MYR  \\\n",
       "0         0         0         0         0         0         0         0   \n",
       "1         0         0         0         0         0         0         0   \n",
       "2         0         0         0         0         0         0         0   \n",
       "3         0         0         0         0         0         0         0   \n",
       "4         0         0         0         0         0         0         0   \n",
       "\n",
       "   DEST_OAJ  DEST_OAK  DEST_OKC  DEST_OMA  DEST_ONT  DEST_ORD  DEST_ORF  \\\n",
       "0         0         0         0         0         0         0         0   \n",
       "1         0         0         0         0         0         0         0   \n",
       "2         0         0         0         0         0         0         0   \n",
       "3         0         0         0         0         0         0         0   \n",
       "4         0         0         0         0         0         0         0   \n",
       "\n",
       "   DEST_PBI  DEST_PDX  DEST_PHF  DEST_PHL  DEST_PHX  DEST_PIA  DEST_PIT  \\\n",
       "0         0         0         0         0         0         0         0   \n",
       "1         0         0         0         0         0         0         0   \n",
       "2         0         0         0         0         0         0         0   \n",
       "3         0         0         0         0         0         0         0   \n",
       "4         0         0         0         0         0         0         0   \n",
       "\n",
       "   DEST_PNS  DEST_PSP  DEST_PVD  DEST_PWM  DEST_RAP  DEST_RDU  DEST_RIC  \\\n",
       "0         0         0         0         0         0         0         0   \n",
       "1         0         0         0         0         0         0         0   \n",
       "2         0         0         0         0         0         0         0   \n",
       "3         0         0         0         0         0         0         0   \n",
       "4         0         0         0         0         0         0         0   \n",
       "\n",
       "   DEST_RNO  DEST_ROA  DEST_ROC  DEST_RST  DEST_RSW  DEST_SAN  DEST_SAT  \\\n",
       "0         0         0         0         0         0         0         0   \n",
       "1         0         0         0         0         0         0         0   \n",
       "2         0         0         0         0         0         0         0   \n",
       "3         0         0         0         0         0         0         0   \n",
       "4         0         0         0         0         0         0         0   \n",
       "\n",
       "   DEST_SAV  DEST_SBN  DEST_SDF  DEST_SEA  DEST_SFO  DEST_SGF  DEST_SHV  \\\n",
       "0         0         0         0         0         0         1         0   \n",
       "1         0         0         0         0         0         0         0   \n",
       "2         0         0         0         0         0         0         0   \n",
       "3         0         0         0         0         0         0         0   \n",
       "4         0         0         0         0         0         0         0   \n",
       "\n",
       "   DEST_SJC  DEST_SJU  DEST_SLC  DEST_SMF  DEST_SNA  DEST_SRQ  DEST_STL  \\\n",
       "0         0         0         0         0         0         0         0   \n",
       "1         0         0         0         0         0         0         0   \n",
       "2         0         0         0         0         0         0         0   \n",
       "3         0         0         0         0         0         0         0   \n",
       "4         0         0         0         0         0         0         0   \n",
       "\n",
       "   DEST_STT  DEST_STX  DEST_SYR  DEST_TLH  DEST_TPA  DEST_TRI  DEST_TTN  \\\n",
       "0         0         0         0         0         0         0         0   \n",
       "1         0         0         0         0         0         0         0   \n",
       "2         0         0         0         0         0         0         0   \n",
       "3         0         0         0         0         0         0         0   \n",
       "4         0         0         0         0         0         0         0   \n",
       "\n",
       "   DEST_TUL  DEST_TUS  DEST_TVC  DEST_TYS  DEST_VLD  DEST_VPS  DEST_XNA  \n",
       "0         0         0         0         0         0         0         0  \n",
       "1         0         0         0         0         0         0         0  \n",
       "2         0         0         0         0         0         0         0  \n",
       "3         0         0         0         0         0         0         0  \n",
       "4         0         0         0         0         0         0         0  "
      ],
      "text/html": "<div>\n<style scoped>\n    .dataframe tbody tr th:only-of-type {\n        vertical-align: middle;\n    }\n\n    .dataframe tbody tr th {\n        vertical-align: top;\n    }\n\n    .dataframe thead th {\n        text-align: right;\n    }\n</style>\n<table border=\"1\" class=\"dataframe\">\n  <thead>\n    <tr style=\"text-align: right;\">\n      <th></th>\n      <th>YEAR</th>\n      <th>MONTH</th>\n      <th>DAY_OF_MONTH</th>\n      <th>DAY_OF_WEEK</th>\n      <th>CANCELLED</th>\n      <th>DISTANCE</th>\n      <th>ELEVATION</th>\n      <th>Ort_Rüzgar</th>\n      <th>Kar</th>\n      <th>Ort_Sýcaklýk</th>\n      <th>TMAX</th>\n      <th>TMIN</th>\n      <th>2Dk_max_rüzgar</th>\n      <th>5Dk_max_rüzgar</th>\n      <th>OP_CARRIER_9E</th>\n      <th>OP_CARRIER_AA</th>\n      <th>OP_CARRIER_AS</th>\n      <th>OP_CARRIER_B6</th>\n      <th>OP_CARRIER_DL</th>\n      <th>OP_CARRIER_EV</th>\n      <th>OP_CARRIER_F9</th>\n      <th>OP_CARRIER_MQ</th>\n      <th>OP_CARRIER_NK</th>\n      <th>OP_CARRIER_OH</th>\n      <th>OP_CARRIER_OO</th>\n      <th>OP_CARRIER_UA</th>\n      <th>OP_CARRIER_WN</th>\n      <th>OP_CARRIER_YV</th>\n      <th>OP_CARRIER_YX</th>\n      <th>DEST_ABE</th>\n      <th>DEST_ABQ</th>\n      <th>DEST_ABY</th>\n      <th>DEST_ACY</th>\n      <th>DEST_AEX</th>\n      <th>DEST_AGS</th>\n      <th>DEST_ALB</th>\n      <th>DEST_ANC</th>\n      <th>DEST_ASE</th>\n      <th>DEST_ATW</th>\n      <th>DEST_AUS</th>\n      <th>DEST_AVL</th>\n      <th>DEST_AVP</th>\n      <th>DEST_BDL</th>\n      <th>DEST_BHM</th>\n      <th>DEST_BMI</th>\n      <th>DEST_BNA</th>\n      <th>DEST_BOS</th>\n      <th>DEST_BQK</th>\n      <th>DEST_BTR</th>\n      <th>DEST_BTV</th>\n      <th>DEST_BUF</th>\n      <th>DEST_BUR</th>\n      <th>DEST_BWI</th>\n      <th>DEST_BZN</th>\n      <th>DEST_CAE</th>\n      <th>DEST_CAK</th>\n      <th>DEST_CHA</th>\n      <th>DEST_CHO</th>\n      <th>DEST_CHS</th>\n      <th>DEST_CID</th>\n      <th>DEST_CLE</th>\n      <th>DEST_CLT</th>\n      <th>DEST_CMH</th>\n      <th>DEST_COS</th>\n      <th>DEST_CRW</th>\n      <th>DEST_CSG</th>\n      <th>DEST_CVG</th>\n      <th>DEST_DAB</th>\n      <th>DEST_DAL</th>\n      <th>DEST_DAY</th>\n      <th>DEST_DCA</th>\n      <th>DEST_DEN</th>\n      <th>DEST_DFW</th>\n      <th>DEST_DHN</th>\n      <th>DEST_DSM</th>\n      <th>DEST_DTW</th>\n      <th>DEST_ECP</th>\n      <th>DEST_EGE</th>\n      <th>DEST_ELM</th>\n      <th>DEST_ELP</th>\n      <th>DEST_EVV</th>\n      <th>DEST_EWN</th>\n      <th>DEST_EWR</th>\n      <th>DEST_EYW</th>\n      <th>DEST_FAR</th>\n      <th>DEST_FAY</th>\n      <th>DEST_FCA</th>\n      <th>DEST_FLL</th>\n      <th>DEST_FNT</th>\n      <th>DEST_FSD</th>\n      <th>DEST_FSM</th>\n      <th>DEST_FWA</th>\n      <th>DEST_GNV</th>\n      <th>DEST_GPT</th>\n      <th>DEST_GRB</th>\n      <th>DEST_GRR</th>\n      <th>DEST_GSO</th>\n      <th>DEST_GSP</th>\n      <th>DEST_GTR</th>\n      <th>DEST_HDN</th>\n      <th>DEST_HHH</th>\n      <th>DEST_HNL</th>\n      <th>DEST_HOU</th>\n      <th>DEST_HPN</th>\n      <th>DEST_HSV</th>\n      <th>DEST_IAD</th>\n      <th>DEST_IAH</th>\n      <th>DEST_ICT</th>\n      <th>DEST_ILM</th>\n      <th>DEST_IND</th>\n      <th>DEST_ISP</th>\n      <th>DEST_JAC</th>\n      <th>DEST_JAN</th>\n      <th>DEST_JAX</th>\n      <th>DEST_JFK</th>\n      <th>DEST_LAS</th>\n      <th>DEST_LAX</th>\n      <th>DEST_LEX</th>\n      <th>DEST_LFT</th>\n      <th>DEST_LGA</th>\n      <th>DEST_LIT</th>\n      <th>DEST_LNK</th>\n      <th>DEST_MCI</th>\n      <th>DEST_MCO</th>\n      <th>DEST_MDT</th>\n      <th>DEST_MDW</th>\n      <th>DEST_MEM</th>\n      <th>DEST_MGM</th>\n      <th>DEST_MHT</th>\n      <th>DEST_MIA</th>\n      <th>DEST_MKE</th>\n      <th>DEST_MLB</th>\n      <th>DEST_MLI</th>\n      <th>DEST_MLU</th>\n      <th>DEST_MOB</th>\n      <th>DEST_MSN</th>\n      <th>DEST_MSO</th>\n      <th>DEST_MSP</th>\n      <th>DEST_MSY</th>\n      <th>DEST_MTJ</th>\n      <th>DEST_MYR</th>\n      <th>DEST_OAJ</th>\n      <th>DEST_OAK</th>\n      <th>DEST_OKC</th>\n      <th>DEST_OMA</th>\n      <th>DEST_ONT</th>\n      <th>DEST_ORD</th>\n      <th>DEST_ORF</th>\n      <th>DEST_PBI</th>\n      <th>DEST_PDX</th>\n      <th>DEST_PHF</th>\n      <th>DEST_PHL</th>\n      <th>DEST_PHX</th>\n      <th>DEST_PIA</th>\n      <th>DEST_PIT</th>\n      <th>DEST_PNS</th>\n      <th>DEST_PSP</th>\n      <th>DEST_PVD</th>\n      <th>DEST_PWM</th>\n      <th>DEST_RAP</th>\n      <th>DEST_RDU</th>\n      <th>DEST_RIC</th>\n      <th>DEST_RNO</th>\n      <th>DEST_ROA</th>\n      <th>DEST_ROC</th>\n      <th>DEST_RST</th>\n      <th>DEST_RSW</th>\n      <th>DEST_SAN</th>\n      <th>DEST_SAT</th>\n      <th>DEST_SAV</th>\n      <th>DEST_SBN</th>\n      <th>DEST_SDF</th>\n      <th>DEST_SEA</th>\n      <th>DEST_SFO</th>\n      <th>DEST_SGF</th>\n      <th>DEST_SHV</th>\n      <th>DEST_SJC</th>\n      <th>DEST_SJU</th>\n      <th>DEST_SLC</th>\n      <th>DEST_SMF</th>\n      <th>DEST_SNA</th>\n      <th>DEST_SRQ</th>\n      <th>DEST_STL</th>\n      <th>DEST_STT</th>\n      <th>DEST_STX</th>\n      <th>DEST_SYR</th>\n      <th>DEST_TLH</th>\n      <th>DEST_TPA</th>\n      <th>DEST_TRI</th>\n      <th>DEST_TTN</th>\n      <th>DEST_TUL</th>\n      <th>DEST_TUS</th>\n      <th>DEST_TVC</th>\n      <th>DEST_TYS</th>\n      <th>DEST_VLD</th>\n      <th>DEST_VPS</th>\n      <th>DEST_XNA</th>\n    </tr>\n  </thead>\n  <tbody>\n    <tr>\n      <th>0</th>\n      <td>2019</td>\n      <td>1</td>\n      <td>5</td>\n      <td>6</td>\n      <td>0</td>\n      <td>563</td>\n      <td>307.8</td>\n      <td>13.42</td>\n      <td>0.0</td>\n      <td>49</td>\n      <td>59</td>\n      <td>44</td>\n      <td>23.9</td>\n      <td>33.1</td>\n      <td>1</td>\n      <td>0</td>\n      <td>0</td>\n      <td>0</td>\n      <td>0</td>\n      <td>0</td>\n      <td>0</td>\n      <td>0</td>\n      <td>0</td>\n      <td>0</td>\n      <td>0</td>\n      <td>0</td>\n      <td>0</td>\n      <td>0</td>\n      <td>0</td>\n      <td>0</td>\n      <td>0</td>\n      <td>0</td>\n      <td>0</td>\n      <td>0</td>\n      <td>0</td>\n      <td>0</td>\n      <td>0</td>\n      <td>0</td>\n      <td>0</td>\n      <td>0</td>\n      <td>0</td>\n      <td>0</td>\n      <td>0</td>\n      <td>0</td>\n      <td>0</td>\n      <td>0</td>\n      <td>0</td>\n      <td>0</td>\n      <td>0</td>\n      <td>0</td>\n      <td>0</td>\n      <td>0</td>\n      <td>0</td>\n      <td>0</td>\n      <td>0</td>\n      <td>0</td>\n      <td>0</td>\n      <td>0</td>\n      <td>0</td>\n      <td>0</td>\n      <td>0</td>\n      <td>0</td>\n      <td>0</td>\n      <td>0</td>\n      <td>0</td>\n      <td>0</td>\n      <td>0</td>\n      <td>0</td>\n      <td>0</td>\n      <td>0</td>\n      <td>0</td>\n      <td>0</td>\n      <td>0</td>\n      <td>0</td>\n      <td>0</td>\n      <td>0</td>\n      <td>0</td>\n      <td>0</td>\n      <td>0</td>\n      <td>0</td>\n      <td>0</td>\n      <td>0</td>\n      <td>0</td>\n      <td>0</td>\n      <td>0</td>\n      <td>0</td>\n      <td>0</td>\n      <td>0</td>\n      <td>0</td>\n      <td>0</td>\n      <td>0</td>\n      <td>0</td>\n      <td>0</td>\n      <td>0</td>\n      <td>0</td>\n      <td>0</td>\n      <td>0</td>\n      <td>0</td>\n      <td>0</td>\n      <td>0</td>\n      <td>0</td>\n      <td>0</td>\n      <td>0</td>\n      <td>0</td>\n      <td>0</td>\n      <td>0</td>\n      <td>0</td>\n      <td>0</td>\n      <td>0</td>\n      <td>0</td>\n      <td>0</td>\n      <td>0</td>\n      <td>0</td>\n      <td>0</td>\n      <td>0</td>\n      <td>0</td>\n      <td>0</td>\n      <td>0</td>\n      <td>0</td>\n      <td>0</td>\n      <td>0</td>\n      <td>0</td>\n      <td>0</td>\n      <td>0</td>\n      <td>0</td>\n      <td>0</td>\n      <td>0</td>\n      <td>0</td>\n      <td>0</td>\n      <td>0</td>\n      <td>0</td>\n      <td>0</td>\n      <td>0</td>\n      <td>0</td>\n      <td>0</td>\n      <td>0</td>\n      <td>0</td>\n      <td>0</td>\n      <td>0</td>\n      <td>0</td>\n      <td>0</td>\n      <td>0</td>\n      <td>0</td>\n      <td>0</td>\n      <td>0</td>\n      <td>0</td>\n      <td>0</td>\n      <td>0</td>\n      <td>0</td>\n      <td>0</td>\n      <td>0</td>\n      <td>0</td>\n      <td>0</td>\n      <td>0</td>\n      <td>0</td>\n      <td>0</td>\n      <td>0</td>\n      <td>0</td>\n      <td>0</td>\n      <td>0</td>\n      <td>0</td>\n      <td>0</td>\n      <td>0</td>\n      <td>0</td>\n      <td>0</td>\n      <td>0</td>\n      <td>0</td>\n      <td>0</td>\n      <td>0</td>\n      <td>0</td>\n      <td>0</td>\n      <td>0</td>\n      <td>0</td>\n      <td>0</td>\n      <td>1</td>\n      <td>0</td>\n      <td>0</td>\n      <td>0</td>\n      <td>0</td>\n      <td>0</td>\n      <td>0</td>\n      <td>0</td>\n      <td>0</td>\n      <td>0</td>\n      <td>0</td>\n      <td>0</td>\n      <td>0</td>\n      <td>0</td>\n      <td>0</td>\n      <td>0</td>\n      <td>0</td>\n      <td>0</td>\n      <td>0</td>\n      <td>0</td>\n      <td>0</td>\n      <td>0</td>\n      <td>0</td>\n    </tr>\n    <tr>\n      <th>1</th>\n      <td>2019</td>\n      <td>1</td>\n      <td>5</td>\n      <td>6</td>\n      <td>0</td>\n      <td>106</td>\n      <td>307.8</td>\n      <td>13.42</td>\n      <td>0.0</td>\n      <td>49</td>\n      <td>59</td>\n      <td>44</td>\n      <td>23.9</td>\n      <td>33.1</td>\n      <td>1</td>\n      <td>0</td>\n      <td>0</td>\n      <td>0</td>\n      <td>0</td>\n      <td>0</td>\n      <td>0</td>\n      <td>0</td>\n      <td>0</td>\n      <td>0</td>\n      <td>0</td>\n      <td>0</td>\n      <td>0</td>\n      <td>0</td>\n      <td>0</td>\n      <td>0</td>\n      <td>0</td>\n      <td>0</td>\n      <td>0</td>\n      <td>0</td>\n      <td>0</td>\n      <td>0</td>\n      <td>0</td>\n      <td>0</td>\n      <td>0</td>\n      <td>0</td>\n      <td>0</td>\n      <td>0</td>\n      <td>0</td>\n      <td>0</td>\n      <td>0</td>\n      <td>0</td>\n      <td>0</td>\n      <td>0</td>\n      <td>0</td>\n      <td>0</td>\n      <td>0</td>\n      <td>0</td>\n      <td>0</td>\n      <td>0</td>\n      <td>0</td>\n      <td>0</td>\n      <td>1</td>\n      <td>0</td>\n      <td>0</td>\n      <td>0</td>\n      <td>0</td>\n      <td>0</td>\n      <td>0</td>\n      <td>0</td>\n      <td>0</td>\n      <td>0</td>\n      <td>0</td>\n      <td>0</td>\n      <td>0</td>\n      <td>0</td>\n      <td>0</td>\n      <td>0</td>\n      <td>0</td>\n      <td>0</td>\n      <td>0</td>\n      <td>0</td>\n      <td>0</td>\n      <td>0</td>\n      <td>0</td>\n      <td>0</td>\n      <td>0</td>\n      <td>0</td>\n      <td>0</td>\n      <td>0</td>\n      <td>0</td>\n      <td>0</td>\n      <td>0</td>\n      <td>0</td>\n      <td>0</td>\n      <td>0</td>\n      <td>0</td>\n      <td>0</td>\n      <td>0</td>\n      <td>0</td>\n      <td>0</td>\n      <td>0</td>\n      <td>0</td>\n      <td>0</td>\n      <td>0</td>\n      <td>0</td>\n      <td>0</td>\n      <td>0</td>\n      <td>0</td>\n      <td>0</td>\n      <td>0</td>\n      <td>0</td>\n      <td>0</td>\n      <td>0</td>\n      <td>0</td>\n      <td>0</td>\n      <td>0</td>\n      <td>0</td>\n      <td>0</td>\n      <td>0</td>\n      <td>0</td>\n      <td>0</td>\n      <td>0</td>\n      <td>0</td>\n      <td>0</td>\n      <td>0</td>\n      <td>0</td>\n      <td>0</td>\n      <td>0</td>\n      <td>0</td>\n      <td>0</td>\n      <td>0</td>\n      <td>0</td>\n      <td>0</td>\n      <td>0</td>\n      <td>0</td>\n      <td>0</td>\n      <td>0</td>\n      <td>0</td>\n      <td>0</td>\n      <td>0</td>\n      <td>0</td>\n      <td>0</td>\n      <td>0</td>\n      <td>0</td>\n      <td>0</td>\n      <td>0</td>\n      <td>0</td>\n      <td>0</td>\n      <td>0</td>\n      <td>0</td>\n      <td>0</td>\n      <td>0</td>\n      <td>0</td>\n      <td>0</td>\n      <td>0</td>\n      <td>0</td>\n      <td>0</td>\n      <td>0</td>\n      <td>0</td>\n      <td>0</td>\n      <td>0</td>\n      <td>0</td>\n      <td>0</td>\n      <td>0</td>\n      <td>0</td>\n      <td>0</td>\n      <td>0</td>\n      <td>0</td>\n      <td>0</td>\n      <td>0</td>\n      <td>0</td>\n      <td>0</td>\n      <td>0</td>\n      <td>0</td>\n      <td>0</td>\n      <td>0</td>\n      <td>0</td>\n      <td>0</td>\n      <td>0</td>\n      <td>0</td>\n      <td>0</td>\n      <td>0</td>\n      <td>0</td>\n      <td>0</td>\n      <td>0</td>\n      <td>0</td>\n      <td>0</td>\n      <td>0</td>\n      <td>0</td>\n      <td>0</td>\n      <td>0</td>\n      <td>0</td>\n      <td>0</td>\n      <td>0</td>\n      <td>0</td>\n      <td>0</td>\n      <td>0</td>\n      <td>0</td>\n      <td>0</td>\n      <td>0</td>\n      <td>0</td>\n      <td>0</td>\n    </tr>\n    <tr>\n      <th>2</th>\n      <td>2019</td>\n      <td>1</td>\n      <td>5</td>\n      <td>6</td>\n      <td>0</td>\n      <td>503</td>\n      <td>307.8</td>\n      <td>13.42</td>\n      <td>0.0</td>\n      <td>49</td>\n      <td>59</td>\n      <td>44</td>\n      <td>23.9</td>\n      <td>33.1</td>\n      <td>1</td>\n      <td>0</td>\n      <td>0</td>\n      <td>0</td>\n      <td>0</td>\n      <td>0</td>\n      <td>0</td>\n      <td>0</td>\n      <td>0</td>\n      <td>0</td>\n      <td>0</td>\n      <td>0</td>\n      <td>0</td>\n      <td>0</td>\n      <td>0</td>\n      <td>0</td>\n      <td>0</td>\n      <td>0</td>\n      <td>0</td>\n      <td>0</td>\n      <td>0</td>\n      <td>0</td>\n      <td>0</td>\n      <td>0</td>\n      <td>0</td>\n      <td>0</td>\n      <td>0</td>\n      <td>0</td>\n      <td>0</td>\n      <td>0</td>\n      <td>0</td>\n      <td>0</td>\n      <td>0</td>\n      <td>0</td>\n      <td>0</td>\n      <td>0</td>\n      <td>0</td>\n      <td>0</td>\n      <td>0</td>\n      <td>0</td>\n      <td>0</td>\n      <td>0</td>\n      <td>0</td>\n      <td>0</td>\n      <td>0</td>\n      <td>0</td>\n      <td>0</td>\n      <td>0</td>\n      <td>0</td>\n      <td>0</td>\n      <td>0</td>\n      <td>0</td>\n      <td>0</td>\n      <td>0</td>\n      <td>0</td>\n      <td>0</td>\n      <td>0</td>\n      <td>0</td>\n      <td>0</td>\n      <td>0</td>\n      <td>0</td>\n      <td>0</td>\n      <td>0</td>\n      <td>0</td>\n      <td>0</td>\n      <td>0</td>\n      <td>0</td>\n      <td>0</td>\n      <td>0</td>\n      <td>0</td>\n      <td>0</td>\n      <td>0</td>\n      <td>0</td>\n      <td>0</td>\n      <td>0</td>\n      <td>0</td>\n      <td>0</td>\n      <td>0</td>\n      <td>0</td>\n      <td>0</td>\n      <td>0</td>\n      <td>0</td>\n      <td>0</td>\n      <td>0</td>\n      <td>0</td>\n      <td>0</td>\n      <td>0</td>\n      <td>0</td>\n      <td>0</td>\n      <td>0</td>\n      <td>0</td>\n      <td>0</td>\n      <td>0</td>\n      <td>0</td>\n      <td>0</td>\n      <td>0</td>\n      <td>0</td>\n      <td>0</td>\n      <td>0</td>\n      <td>0</td>\n      <td>0</td>\n      <td>0</td>\n      <td>0</td>\n      <td>0</td>\n      <td>1</td>\n      <td>0</td>\n      <td>0</td>\n      <td>0</td>\n      <td>0</td>\n      <td>0</td>\n      <td>0</td>\n      <td>0</td>\n      <td>0</td>\n      <td>0</td>\n      <td>0</td>\n      <td>0</td>\n      <td>0</td>\n      <td>0</td>\n      <td>0</td>\n      <td>0</td>\n      <td>0</td>\n      <td>0</td>\n      <td>0</td>\n      <td>0</td>\n      <td>0</td>\n      <td>0</td>\n      <td>0</td>\n      <td>0</td>\n      <td>0</td>\n      <td>0</td>\n      <td>0</td>\n      <td>0</td>\n      <td>0</td>\n      <td>0</td>\n      <td>0</td>\n      <td>0</td>\n      <td>0</td>\n      <td>0</td>\n      <td>0</td>\n      <td>0</td>\n      <td>0</td>\n      <td>0</td>\n      <td>0</td>\n      <td>0</td>\n      <td>0</td>\n      <td>0</td>\n      <td>0</td>\n      <td>0</td>\n      <td>0</td>\n      <td>0</td>\n      <td>0</td>\n      <td>0</td>\n      <td>0</td>\n      <td>0</td>\n      <td>0</td>\n      <td>0</td>\n      <td>0</td>\n      <td>0</td>\n      <td>0</td>\n      <td>0</td>\n      <td>0</td>\n      <td>0</td>\n      <td>0</td>\n      <td>0</td>\n      <td>0</td>\n      <td>0</td>\n      <td>0</td>\n      <td>0</td>\n      <td>0</td>\n      <td>0</td>\n      <td>0</td>\n      <td>0</td>\n      <td>0</td>\n      <td>0</td>\n      <td>0</td>\n      <td>0</td>\n      <td>0</td>\n      <td>0</td>\n      <td>0</td>\n      <td>0</td>\n      <td>0</td>\n      <td>0</td>\n      <td>0</td>\n    </tr>\n    <tr>\n      <th>3</th>\n      <td>2019</td>\n      <td>1</td>\n      <td>5</td>\n      <td>6</td>\n      <td>0</td>\n      <td>577</td>\n      <td>307.8</td>\n      <td>13.42</td>\n      <td>0.0</td>\n      <td>49</td>\n      <td>59</td>\n      <td>44</td>\n      <td>23.9</td>\n      <td>33.1</td>\n      <td>0</td>\n      <td>0</td>\n      <td>0</td>\n      <td>0</td>\n      <td>0</td>\n      <td>0</td>\n      <td>0</td>\n      <td>0</td>\n      <td>1</td>\n      <td>0</td>\n      <td>0</td>\n      <td>0</td>\n      <td>0</td>\n      <td>0</td>\n      <td>0</td>\n      <td>0</td>\n      <td>0</td>\n      <td>0</td>\n      <td>0</td>\n      <td>0</td>\n      <td>0</td>\n      <td>0</td>\n      <td>0</td>\n      <td>0</td>\n      <td>0</td>\n      <td>0</td>\n      <td>0</td>\n      <td>0</td>\n      <td>0</td>\n      <td>0</td>\n      <td>0</td>\n      <td>0</td>\n      <td>0</td>\n      <td>0</td>\n      <td>0</td>\n      <td>0</td>\n      <td>0</td>\n      <td>0</td>\n      <td>1</td>\n      <td>0</td>\n      <td>0</td>\n      <td>0</td>\n      <td>0</td>\n      <td>0</td>\n      <td>0</td>\n      <td>0</td>\n      <td>0</td>\n      <td>0</td>\n      <td>0</td>\n      <td>0</td>\n      <td>0</td>\n      <td>0</td>\n      <td>0</td>\n      <td>0</td>\n      <td>0</td>\n      <td>0</td>\n      <td>0</td>\n      <td>0</td>\n      <td>0</td>\n      <td>0</td>\n      <td>0</td>\n      <td>0</td>\n      <td>0</td>\n      <td>0</td>\n      <td>0</td>\n      <td>0</td>\n      <td>0</td>\n      <td>0</td>\n      <td>0</td>\n      <td>0</td>\n      <td>0</td>\n      <td>0</td>\n      <td>0</td>\n      <td>0</td>\n      <td>0</td>\n      <td>0</td>\n      <td>0</td>\n      <td>0</td>\n      <td>0</td>\n      <td>0</td>\n      <td>0</td>\n      <td>0</td>\n      <td>0</td>\n      <td>0</td>\n      <td>0</td>\n      <td>0</td>\n      <td>0</td>\n      <td>0</td>\n      <td>0</td>\n      <td>0</td>\n      <td>0</td>\n      <td>0</td>\n      <td>0</td>\n      <td>0</td>\n      <td>0</td>\n      <td>0</td>\n      <td>0</td>\n      <td>0</td>\n      <td>0</td>\n      <td>0</td>\n      <td>0</td>\n      <td>0</td>\n      <td>0</td>\n      <td>0</td>\n      <td>0</td>\n      <td>0</td>\n      <td>0</td>\n      <td>0</td>\n      <td>0</td>\n      <td>0</td>\n      <td>0</td>\n      <td>0</td>\n      <td>0</td>\n      <td>0</td>\n      <td>0</td>\n      <td>0</td>\n      <td>0</td>\n      <td>0</td>\n      <td>0</td>\n      <td>0</td>\n      <td>0</td>\n      <td>0</td>\n      <td>0</td>\n      <td>0</td>\n      <td>0</td>\n      <td>0</td>\n      <td>0</td>\n      <td>0</td>\n      <td>0</td>\n      <td>0</td>\n      <td>0</td>\n      <td>0</td>\n      <td>0</td>\n      <td>0</td>\n      <td>0</td>\n      <td>0</td>\n      <td>0</td>\n      <td>0</td>\n      <td>0</td>\n      <td>0</td>\n      <td>0</td>\n      <td>0</td>\n      <td>0</td>\n      <td>0</td>\n      <td>0</td>\n      <td>0</td>\n      <td>0</td>\n      <td>0</td>\n      <td>0</td>\n      <td>0</td>\n      <td>0</td>\n      <td>0</td>\n      <td>0</td>\n      <td>0</td>\n      <td>0</td>\n      <td>0</td>\n      <td>0</td>\n      <td>0</td>\n      <td>0</td>\n      <td>0</td>\n      <td>0</td>\n      <td>0</td>\n      <td>0</td>\n      <td>0</td>\n      <td>0</td>\n      <td>0</td>\n      <td>0</td>\n      <td>0</td>\n      <td>0</td>\n      <td>0</td>\n      <td>0</td>\n      <td>0</td>\n      <td>0</td>\n      <td>0</td>\n      <td>0</td>\n      <td>0</td>\n      <td>0</td>\n      <td>0</td>\n      <td>0</td>\n      <td>0</td>\n      <td>0</td>\n      <td>0</td>\n      <td>0</td>\n    </tr>\n    <tr>\n      <th>4</th>\n      <td>2019</td>\n      <td>1</td>\n      <td>5</td>\n      <td>6</td>\n      <td>0</td>\n      <td>577</td>\n      <td>307.8</td>\n      <td>13.42</td>\n      <td>0.0</td>\n      <td>49</td>\n      <td>59</td>\n      <td>44</td>\n      <td>23.9</td>\n      <td>33.1</td>\n      <td>0</td>\n      <td>0</td>\n      <td>0</td>\n      <td>0</td>\n      <td>0</td>\n      <td>0</td>\n      <td>0</td>\n      <td>0</td>\n      <td>1</td>\n      <td>0</td>\n      <td>0</td>\n      <td>0</td>\n      <td>0</td>\n      <td>0</td>\n      <td>0</td>\n      <td>0</td>\n      <td>0</td>\n      <td>0</td>\n      <td>0</td>\n      <td>0</td>\n      <td>0</td>\n      <td>0</td>\n      <td>0</td>\n      <td>0</td>\n      <td>0</td>\n      <td>0</td>\n      <td>0</td>\n      <td>0</td>\n      <td>0</td>\n      <td>0</td>\n      <td>0</td>\n      <td>0</td>\n      <td>0</td>\n      <td>0</td>\n      <td>0</td>\n      <td>0</td>\n      <td>0</td>\n      <td>0</td>\n      <td>1</td>\n      <td>0</td>\n      <td>0</td>\n      <td>0</td>\n      <td>0</td>\n      <td>0</td>\n      <td>0</td>\n      <td>0</td>\n      <td>0</td>\n      <td>0</td>\n      <td>0</td>\n      <td>0</td>\n      <td>0</td>\n      <td>0</td>\n      <td>0</td>\n      <td>0</td>\n      <td>0</td>\n      <td>0</td>\n      <td>0</td>\n      <td>0</td>\n      <td>0</td>\n      <td>0</td>\n      <td>0</td>\n      <td>0</td>\n      <td>0</td>\n      <td>0</td>\n      <td>0</td>\n      <td>0</td>\n      <td>0</td>\n      <td>0</td>\n      <td>0</td>\n      <td>0</td>\n      <td>0</td>\n      <td>0</td>\n      <td>0</td>\n      <td>0</td>\n      <td>0</td>\n      <td>0</td>\n      <td>0</td>\n      <td>0</td>\n      <td>0</td>\n      <td>0</td>\n      <td>0</td>\n      <td>0</td>\n      <td>0</td>\n      <td>0</td>\n      <td>0</td>\n      <td>0</td>\n      <td>0</td>\n      <td>0</td>\n      <td>0</td>\n      <td>0</td>\n      <td>0</td>\n      <td>0</td>\n      <td>0</td>\n      <td>0</td>\n      <td>0</td>\n      <td>0</td>\n      <td>0</td>\n      <td>0</td>\n      <td>0</td>\n      <td>0</td>\n      <td>0</td>\n      <td>0</td>\n      <td>0</td>\n      <td>0</td>\n      <td>0</td>\n      <td>0</td>\n      <td>0</td>\n      <td>0</td>\n      <td>0</td>\n      <td>0</td>\n      <td>0</td>\n      <td>0</td>\n      <td>0</td>\n      <td>0</td>\n      <td>0</td>\n      <td>0</td>\n      <td>0</td>\n      <td>0</td>\n      <td>0</td>\n      <td>0</td>\n      <td>0</td>\n      <td>0</td>\n      <td>0</td>\n      <td>0</td>\n      <td>0</td>\n      <td>0</td>\n      <td>0</td>\n      <td>0</td>\n      <td>0</td>\n      <td>0</td>\n      <td>0</td>\n      <td>0</td>\n      <td>0</td>\n      <td>0</td>\n      <td>0</td>\n      <td>0</td>\n      <td>0</td>\n      <td>0</td>\n      <td>0</td>\n      <td>0</td>\n      <td>0</td>\n      <td>0</td>\n      <td>0</td>\n      <td>0</td>\n      <td>0</td>\n      <td>0</td>\n      <td>0</td>\n      <td>0</td>\n      <td>0</td>\n      <td>0</td>\n      <td>0</td>\n      <td>0</td>\n      <td>0</td>\n      <td>0</td>\n      <td>0</td>\n      <td>0</td>\n      <td>0</td>\n      <td>0</td>\n      <td>0</td>\n      <td>0</td>\n      <td>0</td>\n      <td>0</td>\n      <td>0</td>\n      <td>0</td>\n      <td>0</td>\n      <td>0</td>\n      <td>0</td>\n      <td>0</td>\n      <td>0</td>\n      <td>0</td>\n      <td>0</td>\n      <td>0</td>\n      <td>0</td>\n      <td>0</td>\n      <td>0</td>\n      <td>0</td>\n      <td>0</td>\n      <td>0</td>\n      <td>0</td>\n      <td>0</td>\n      <td>0</td>\n      <td>0</td>\n      <td>0</td>\n    </tr>\n  </tbody>\n</table>\n</div>"
     },
     "metadata": {},
     "execution_count": 34
    }
   ],
   "source": [
    "flights_total_ATL_dummies.head()"
   ]
  },
  {
   "cell_type": "code",
   "execution_count": 35,
   "metadata": {},
   "outputs": [
    {
     "output_type": "execute_result",
     "data": {
      "text/plain": [
       "(395009, 197)"
      ]
     },
     "metadata": {},
     "execution_count": 35
    }
   ],
   "source": [
    "flights_total_ATL_dummies.shape"
   ]
  },
  {
   "cell_type": "code",
   "execution_count": 36,
   "metadata": {},
   "outputs": [],
   "source": [
    "def reduce_mem_usage(df):\n",
    "    \"\"\" iterate through all the columns of a dataframe and modify the data type\n",
    "        to reduce memory usage.        \n",
    "    \"\"\"\n",
    "    start_mem = df.memory_usage().sum() / 1024**2\n",
    "    print('Memory usage of dataframe is {:.2f} MB'.format(start_mem))\n",
    "    \n",
    "    for col in df.columns:\n",
    "        col_type = df[col].dtype\n",
    "        \n",
    "        if col_type != object:\n",
    "            c_min = df[col].min()\n",
    "            c_max = df[col].max()\n",
    "            if str(col_type)[:3] == 'int':\n",
    "                if c_min > np.iinfo(np.int8).min and c_max < np.iinfo(np.int8).max:\n",
    "                    df[col] = df[col].astype(np.int8)\n",
    "                elif c_min > np.iinfo(np.int16).min and c_max < np.iinfo(np.int16).max:\n",
    "                    df[col] = df[col].astype(np.int16)\n",
    "                elif c_min > np.iinfo(np.int32).min and c_max < np.iinfo(np.int32).max:\n",
    "                    df[col] = df[col].astype(np.int32)\n",
    "                elif c_min > np.iinfo(np.int64).min and c_max < np.iinfo(np.int64).max:\n",
    "                    df[col] = df[col].astype(np.int64)  \n",
    "            else:\n",
    "                if c_min > np.finfo(np.float16).min and c_max < np.finfo(np.float16).max:\n",
    "                    df[col] = df[col].astype(np.float16)\n",
    "                elif c_min > np.finfo(np.float32).min and c_max < np.finfo(np.float32).max:\n",
    "                    df[col] = df[col].astype(np.float32)\n",
    "                else:\n",
    "                    df[col] = df[col].astype(np.float64)\n",
    "        else:\n",
    "            df[col] = df[col].astype('category')\n",
    "\n",
    "    end_mem = df.memory_usage().sum() / 1024**2\n",
    "    print('Memory usage after optimization is: {:.2f} MB'.format(end_mem))\n",
    "    print('Decreased by {:.1f}%'.format(100 * (start_mem - end_mem) / start_mem))\n",
    "    \n",
    "    return df"
   ]
  },
  {
   "cell_type": "code",
   "execution_count": 37,
   "metadata": {},
   "outputs": [
    {
     "output_type": "stream",
     "name": "stdout",
     "text": [
      "Memory usage of dataframe is 111.13 MB\n",
      "Memory usage after optimization is: 148.80 MB\n",
      "Decreased by -33.9%\n"
     ]
    }
   ],
   "source": [
    "flights_total_ATL_dummies = reduce_mem_usage(flights_total_ATL_dummies)"
   ]
  },
  {
   "cell_type": "code",
   "execution_count": 38,
   "metadata": {},
   "outputs": [],
   "source": [
    "flights_total_ATL_dummies.to_csv('flights_total_ATL_Cancelled.csv')"
   ]
  },
  {
   "cell_type": "code",
   "execution_count": null,
   "metadata": {},
   "outputs": [],
   "source": []
  }
 ]
}